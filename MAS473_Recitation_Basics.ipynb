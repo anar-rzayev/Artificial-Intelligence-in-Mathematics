{
  "nbformat": 4,
  "nbformat_minor": 0,
  "metadata": {
    "colab": {
      "name": "MAS473_Recitation_Week4.ipynb",
      "provenance": [],
      "collapsed_sections": [
        "eFKT9i9UeX4Y",
        "p_OEernD3iTw",
        "ctBj8p4M99kO",
        "aP6MSP6E_S1K"
      ]
    },
    "kernelspec": {
      "name": "python3",
      "display_name": "Python 3"
    },
    "language_info": {
      "name": "python"
    }
  },
  "cells": [
    {
      "cell_type": "markdown",
      "metadata": {
        "id": "AJ7KXw668-Xb"
      },
      "source": [
        "# **MAS473 Programming Recitation (Week 4)**\n",
        "\n",
        "## **Contents**\n",
        "\n",
        "We will cover\n",
        "\n",
        "- **Programming Recitation**\n",
        "- **How to use Google Colab**\n",
        "- **Python Basic Review**\n",
        "- **Useful Packages Introduction (eg. numpy, matplotlib)**"
      ]
    },
    {
      "cell_type": "markdown",
      "metadata": {
        "id": "L2clRgaryPG4"
      },
      "source": [
        "## **0. Programming Recitation**\n",
        "- There will be coding problems in homeworks.\n",
        "- Final project is also implementation tasks.\n",
        "- Only python files are allowed in this class.\n",
        "- One .ipynb file for one problem (do not submit .py file)"
      ]
    },
    {
      "cell_type": "markdown",
      "metadata": {
        "id": "gDIu9cXU-jPu"
      },
      "source": [
        "## **1. How to use Google Colab**\n",
        "### **(1) Introduction**\n",
        "- **Colab** is a free Jupyter notebook environment that runs entirely in the cloud.  \n",
        "- **Advantages:** \\\n",
        "(1) You can access as long as your computer is connected to the internet. \\\n",
        "(2) You can use free computing hardwares (eg. GPU). \\\n",
        "- **Disadvantage:** \\\n",
        "(1) The session will be shut down after 12 hours from the starting time. (It shut down even if the code does not work for a long time.) \\\n",
        "Then installed packages and data are destroyed. I recommend that save your results to your local drive regularly. \\\n",
        "- **Google Colab URL**: https://colab.research.google.com \\\n"
      ]
    },
    {
      "cell_type": "markdown",
      "metadata": {
        "id": "tiUx2buwHxHg"
      },
      "source": [
        "### **(2) How to make a new notebook file and Setting**\n",
        "- **Make a new notebook:** click **File** on menu > **New notebook** \\\n",
        "- **Upload a notebook from local (or google drive):** click **File** on menu > **Upload notebook** \\\n",
        "- Some other useful tools are on the menu bar.\n",
        "- When you run a code shell, it will be connected to a google hardware.\n",
        "- That's all!\n",
        "\n",
        "If you want to use GPUs, click **Runtime** on menu > **Change runtime type** > Set **Hardware Accelerator** as **GPU**."
      ]
    },
    {
      "cell_type": "markdown",
      "metadata": {
        "id": "ThiRpOUwKZvL"
      },
      "source": [
        "## **2. Python Basic Review**\n",
        "- Check whether you know basics of python for implementations of machine learning algorithms.\n",
        "\n",
        "### **(1) Function**\n",
        "\n",
        "\n"
      ]
    },
    {
      "cell_type": "markdown",
      "metadata": {
        "id": "GiarLcDjbxAn"
      },
      "source": [
        "#### **1) very simple example**"
      ]
    },
    {
      "cell_type": "code",
      "metadata": {
        "id": "5gVEkl8k82QY"
      },
      "source": [
        "def do_nothing():\n",
        "  pass # If do nothing,  pass\n",
        "do_nothing()"
      ],
      "execution_count": 1,
      "outputs": []
    },
    {
      "cell_type": "code",
      "metadata": {
        "colab": {
          "base_uri": "https://localhost:8080/"
        },
        "id": "840_1mYv-voI",
        "outputId": "799ef943-6337-4332-bf4f-775e8f4d0d84"
      },
      "source": [
        "def do_something(a): #args\n",
        "  print(\"get {}!\".format(a))\n",
        "\n",
        "do_something('Nice')"
      ],
      "execution_count": 2,
      "outputs": [
        {
          "output_type": "stream",
          "name": "stdout",
          "text": [
            "get Nice!\n"
          ]
        }
      ]
    },
    {
      "cell_type": "code",
      "metadata": {
        "colab": {
          "base_uri": "https://localhost:8080/"
        },
        "id": "v9QQgkZpnhnr",
        "outputId": "4b143674-cf64-4e06-c499-5b90c005e8f5"
      },
      "source": [
        "def do_something(a=1): #args\n",
        "  print(\"get {}!\".format(a))\n",
        "\n",
        "do_something('Nice')\n",
        "do_something()"
      ],
      "execution_count": 3,
      "outputs": [
        {
          "output_type": "stream",
          "name": "stdout",
          "text": [
            "get Nice!\n",
            "get 1!\n"
          ]
        }
      ]
    },
    {
      "cell_type": "markdown",
      "metadata": {
        "id": "MSjxZTsWb9SC"
      },
      "source": [
        "#### **2) return value**"
      ]
    },
    {
      "cell_type": "code",
      "metadata": {
        "colab": {
          "base_uri": "https://localhost:8080/"
        },
        "id": "1VkzfGV_NRRT",
        "outputId": "192aff91-7771-4bd4-d53d-937d772c5461"
      },
      "source": [
        "def agree():\n",
        "  return True # return value\n",
        "\n",
        "if agree(): # agree() = True\n",
        "  print('Splendid!')\n",
        "else:\n",
        "  print('That was unexpected.')"
      ],
      "execution_count": 4,
      "outputs": [
        {
          "output_type": "stream",
          "name": "stdout",
          "text": [
            "Splendid!\n"
          ]
        }
      ]
    },
    {
      "cell_type": "markdown",
      "metadata": {
        "id": "zBLsUGXRcIne"
      },
      "source": [
        "#### **3) docstring**"
      ]
    },
    {
      "cell_type": "code",
      "metadata": {
        "id": "5lorpbtnP8X-"
      },
      "source": [
        "# docstring (annotation for describing functions or classes)\n",
        "def print_if_true(thing, check):\n",
        "    '''\n",
        "    Prints the first argument if a second argument is true.\n",
        "    The operation is:\n",
        "        1. Check whether the *second* argument is true.\n",
        "        2. If it is, print the *first* argument.\n",
        "    '''\n",
        "    if check:\n",
        "        print(thing)"
      ],
      "execution_count": 5,
      "outputs": []
    },
    {
      "cell_type": "code",
      "metadata": {
        "colab": {
          "base_uri": "https://localhost:8080/"
        },
        "id": "T7oQjjPVQH9l",
        "outputId": "8fc9637b-0ae4-4ad2-8aa3-64c979e6e8f8"
      },
      "source": [
        "help(print_if_true)"
      ],
      "execution_count": 6,
      "outputs": [
        {
          "output_type": "stream",
          "name": "stdout",
          "text": [
            "Help on function print_if_true in module __main__:\n",
            "\n",
            "print_if_true(thing, check)\n",
            "    Prints the first argument if a second argument is true.\n",
            "    The operation is:\n",
            "        1. Check whether the *second* argument is true.\n",
            "        2. If it is, print the *first* argument.\n",
            "\n"
          ]
        }
      ]
    },
    {
      "cell_type": "code",
      "metadata": {
        "colab": {
          "base_uri": "https://localhost:8080/"
        },
        "id": "yX9Fs7kxQKOV",
        "outputId": "b9c28d8e-e17a-4089-ec2a-c3cccd89e41e"
      },
      "source": [
        "print(print_if_true.__doc__)"
      ],
      "execution_count": 7,
      "outputs": [
        {
          "output_type": "stream",
          "name": "stdout",
          "text": [
            "\n",
            "    Prints the first argument if a second argument is true.\n",
            "    The operation is:\n",
            "        1. Check whether the *second* argument is true.\n",
            "        2. If it is, print the *first* argument.\n",
            "    \n"
          ]
        }
      ]
    },
    {
      "cell_type": "markdown",
      "metadata": {
        "id": "eFKT9i9UeX4Y"
      },
      "source": [
        "#### **4) lambda function (anonymous function)**"
      ]
    },
    {
      "cell_type": "code",
      "metadata": {
        "colab": {
          "base_uri": "https://localhost:8080/"
        },
        "id": "viZCh7bZQMuF",
        "outputId": "70dc3303-8d42-48a0-a816-9f246774a2e8"
      },
      "source": [
        "def hap(x, y):\n",
        "  return x + y\n",
        "\n",
        "hap(10, 20)"
      ],
      "execution_count": 8,
      "outputs": [
        {
          "output_type": "execute_result",
          "data": {
            "text/plain": [
              "30"
            ]
          },
          "metadata": {},
          "execution_count": 8
        }
      ]
    },
    {
      "cell_type": "code",
      "metadata": {
        "colab": {
          "base_uri": "https://localhost:8080/"
        },
        "id": "yhhA7VPg0M1s",
        "outputId": "9ca3b428-5026-43dc-902f-6aa4118e5264"
      },
      "source": [
        "# no name function \n",
        "# command : (lambda args : return)\n",
        "(lambda x, y : x + y)(10, 20)"
      ],
      "execution_count": 9,
      "outputs": [
        {
          "output_type": "execute_result",
          "data": {
            "text/plain": [
              "30"
            ]
          },
          "metadata": {},
          "execution_count": 9
        }
      ]
    },
    {
      "cell_type": "code",
      "metadata": {
        "colab": {
          "base_uri": "https://localhost:8080/"
        },
        "id": "6le2z7oU0Rt3",
        "outputId": "f7fdef45-5f18-4487-f8c5-70695875040b"
      },
      "source": [
        "# map function\n",
        "# map(function, args)\n",
        "# args : iterator eg. list\n",
        "list(map(hap, [1, 2], [2, 3]))"
      ],
      "execution_count": 10,
      "outputs": [
        {
          "output_type": "execute_result",
          "data": {
            "text/plain": [
              "[3, 5]"
            ]
          },
          "metadata": {},
          "execution_count": 10
        }
      ]
    },
    {
      "cell_type": "code",
      "metadata": {
        "colab": {
          "base_uri": "https://localhost:8080/"
        },
        "id": "1BHiKUFr3G9A",
        "outputId": "524543e4-d9d2-4e9e-cbcd-d61c86ee8769"
      },
      "source": [
        "list(map((lambda x, y : x + y), [1, 2], [2, 3]))"
      ],
      "execution_count": 11,
      "outputs": [
        {
          "output_type": "execute_result",
          "data": {
            "text/plain": [
              "[3, 5]"
            ]
          },
          "metadata": {},
          "execution_count": 11
        }
      ]
    },
    {
      "cell_type": "markdown",
      "metadata": {
        "id": "p_OEernD3iTw"
      },
      "source": [
        "#### **5) generator**"
      ]
    },
    {
      "cell_type": "code",
      "metadata": {
        "id": "9FbOwHbH3nFw"
      },
      "source": [
        "# generator generates a sequence\n",
        "# eg. range()\n",
        "def my_range(first = 0, last = 10, step = 1):\n",
        "  number = first\n",
        "  while number < last:\n",
        "    yield number # return number\n",
        "    number += step # if we call again, then start the next command from yield"
      ],
      "execution_count": 12,
      "outputs": []
    },
    {
      "cell_type": "code",
      "metadata": {
        "colab": {
          "base_uri": "https://localhost:8080/"
        },
        "id": "BycAW4uZH-0R",
        "outputId": "82a0d27e-fe86-46fc-fcd9-7ba49badece1"
      },
      "source": [
        "a = my_range(last = 2)\n",
        "print(next(a))"
      ],
      "execution_count": 13,
      "outputs": [
        {
          "output_type": "stream",
          "name": "stdout",
          "text": [
            "0\n"
          ]
        }
      ]
    },
    {
      "cell_type": "code",
      "metadata": {
        "colab": {
          "base_uri": "https://localhost:8080/"
        },
        "id": "jl-KP3_lIOMc",
        "outputId": "f5ae13b2-044b-48af-f3f2-04f95421ed24"
      },
      "source": [
        "print(next(a))"
      ],
      "execution_count": 14,
      "outputs": [
        {
          "output_type": "stream",
          "name": "stdout",
          "text": [
            "1\n"
          ]
        }
      ]
    },
    {
      "cell_type": "code",
      "metadata": {
        "id": "dvdj-IhAIPyB"
      },
      "source": [
        "print(next(a)) # cannot restart"
      ],
      "execution_count": null,
      "outputs": []
    },
    {
      "cell_type": "code",
      "metadata": {
        "id": "m_MGVb11IRxo"
      },
      "source": [
        "a = my_range(last=3)\n",
        "for i in a:\n",
        "  print(i)"
      ],
      "execution_count": null,
      "outputs": []
    },
    {
      "cell_type": "code",
      "metadata": {
        "id": "83sUTTOMIizv"
      },
      "source": [
        "def test_generator():\n",
        "  print('before yield 1')\n",
        "  yield 1\n",
        "  print('between yield 1 and 2')\n",
        "  yield 2\n",
        "  print('between yield 2 and 3')\n",
        "  yield 3\n",
        "  print('after yield 3')\n",
        "\n",
        "g = test_generator()\n",
        "print(next(g))\n",
        "print(next(g))\n",
        "print(next(g))\n",
        "print(next(g))"
      ],
      "execution_count": null,
      "outputs": []
    },
    {
      "cell_type": "markdown",
      "metadata": {
        "id": "9NJ9kQV87cWV"
      },
      "source": [
        "### **(2) Class**"
      ]
    },
    {
      "cell_type": "markdown",
      "metadata": {
        "id": "ctBj8p4M99kO"
      },
      "source": [
        "#### **1) very simple example**"
      ]
    },
    {
      "cell_type": "code",
      "metadata": {
        "id": "eVXQRfymJbq3"
      },
      "source": [
        "class cat():\n",
        "  pass"
      ],
      "execution_count": null,
      "outputs": []
    },
    {
      "cell_type": "code",
      "metadata": {
        "id": "0BARPXJg-QYy"
      },
      "source": [
        "a_cat = cat()\n",
        "a_cat.age = 3 # object attribute"
      ],
      "execution_count": null,
      "outputs": []
    },
    {
      "cell_type": "code",
      "metadata": {
        "id": "s6jo_om5-dzQ"
      },
      "source": [
        "class cat():\n",
        "  def __init__(self, name): # it runs at initialization\n",
        "    self.name = name\n",
        "\n",
        "furball = cat('Grumpy') # initialization\n",
        "print('Our latest addition : ', furball.name)"
      ],
      "execution_count": null,
      "outputs": []
    },
    {
      "cell_type": "markdown",
      "metadata": {
        "id": "aP6MSP6E_S1K"
      },
      "source": [
        "#### **2) inherit**"
      ]
    },
    {
      "cell_type": "code",
      "metadata": {
        "id": "H2YLQwAO_Ij6"
      },
      "source": [
        "class car():\n",
        "  pass\n",
        "\n",
        "class yugo(car):\n",
        "  pass\n",
        "\n",
        "issubclass(yugo, car)"
      ],
      "execution_count": null,
      "outputs": []
    },
    {
      "cell_type": "code",
      "metadata": {
        "id": "cryjaAM7_daK"
      },
      "source": [
        "class car():\n",
        "  def exclaim(self):\n",
        "    print(\"I'm a Car!\")\n",
        "\n",
        "class yugo(car):\n",
        "  pass\n",
        "\n",
        "give_me_a_car = car()\n",
        "give_me_a_yugo = yugo()\n",
        "give_me_a_car.exclaim()\n",
        "give_me_a_yugo.exclaim()"
      ],
      "execution_count": null,
      "outputs": []
    },
    {
      "cell_type": "code",
      "metadata": {
        "id": "LDhSXhy2_uMG"
      },
      "source": [
        "class car():\n",
        "  def exclaim(self):\n",
        "    print(\"I'm a Car!\")\n",
        "\n",
        "class yugo(car):\n",
        "  def exclaim(self):\n",
        "    print(\"I'm a Yugo!\")\n",
        "  def need_a_push(self):\n",
        "    print(\"A little help here?\")\n",
        "\n",
        "give_me_a_car = car()\n",
        "give_me_a_yugo = yugo()\n",
        "give_me_a_car.exclaim()\n",
        "give_me_a_yugo.exclaim()\n",
        "give_me_a_yugo.need_a_push()\n",
        "give_me_a_car.need_a_push()"
      ],
      "execution_count": null,
      "outputs": []
    },
    {
      "cell_type": "code",
      "metadata": {
        "id": "KDo03VZVAA0z"
      },
      "source": [
        "# When we want to use a method or attribute of parents', use 'super'\n",
        "class Person():\n",
        "    def __init__(self, name):\n",
        "        self.name = name\n",
        "    \n",
        "class EmailPerson(Person):\n",
        "    def __init__(self, name, email):\n",
        "        super().__init__(name)\n",
        "        self.email = email\n",
        "\n",
        "bob = EmailPerson('Bob Frapples', 'bob@frapples.com')\n",
        "print(bob.name, bob.email)"
      ],
      "execution_count": null,
      "outputs": []
    },
    {
      "cell_type": "markdown",
      "metadata": {
        "id": "64q-YioAwXQn"
      },
      "source": [
        "## **2. Useful Packages Introduction (eg. numpy, matplotlib)**\n",
        "### **(1) Module and Package**\n",
        "- **Module:** The module is a Python file that contains several classes/functions and global variables. \\\n",
        "- **Package:** The package is a directory having collections of Python modules. It contains ___init_ __.py file by which the interpreter interprets it as a package. The package can also contains sub-packages."
      ]
    },
    {
      "cell_type": "code",
      "metadata": {
        "id": "wfrLXOegw7DX",
        "colab": {
          "base_uri": "https://localhost:8080/"
        },
        "outputId": "f237d85a-0f9b-4059-8786-3ead2e032dfa"
      },
      "source": [
        "import operations.hap\n",
        "print(operations.hap.hap(3,4))"
      ],
      "execution_count": 1,
      "outputs": [
        {
          "output_type": "stream",
          "name": "stdout",
          "text": [
            "hello\n",
            "7\n"
          ]
        }
      ]
    },
    {
      "cell_type": "code",
      "metadata": {
        "colab": {
          "base_uri": "https://localhost:8080/"
        },
        "id": "hTlEqqctPUPb",
        "outputId": "0d72216f-9632-428f-8e9c-bf25411c205b"
      },
      "source": [
        "!python operations/hap.py"
      ],
      "execution_count": 2,
      "outputs": [
        {
          "output_type": "stream",
          "name": "stdout",
          "text": [
            "haphap\n"
          ]
        }
      ]
    },
    {
      "cell_type": "code",
      "metadata": {
        "id": "YWyHMrjyRXLP"
      },
      "source": [
        "import operations as op"
      ],
      "execution_count": 2,
      "outputs": []
    },
    {
      "cell_type": "code",
      "metadata": {
        "id": "kw0nBCRLR7l2",
        "colab": {
          "base_uri": "https://localhost:8080/"
        },
        "outputId": "8d9d7488-1694-4157-be62-4d0d84b7130a"
      },
      "source": [
        "import operations.hap as oh\n",
        "print(oh.hap(3,4))"
      ],
      "execution_count": 1,
      "outputs": [
        {
          "output_type": "stream",
          "name": "stdout",
          "text": [
            "hello\n",
            "7\n"
          ]
        }
      ]
    },
    {
      "cell_type": "code",
      "metadata": {
        "id": "fJj4twLZRqA4",
        "colab": {
          "base_uri": "https://localhost:8080/"
        },
        "outputId": "d5d54545-6d16-49a7-b344-7f39229eac46"
      },
      "source": [
        "from operations import hap,gop\n",
        "print(hap.hap(3,4))\n",
        "print(gop.gop(3,4))"
      ],
      "execution_count": 1,
      "outputs": [
        {
          "output_type": "stream",
          "name": "stdout",
          "text": [
            "hello\n",
            "7\n",
            "12\n"
          ]
        }
      ]
    },
    {
      "cell_type": "code",
      "metadata": {
        "colab": {
          "base_uri": "https://localhost:8080/"
        },
        "id": "o2brI-qXRwYM",
        "outputId": "75d4d146-c6c0-4922-b002-3b4eaa62eefe"
      },
      "source": [
        "from operations import *  #not recommended\n",
        "print(hap.hap(2,3))\n",
        "print(gop.gop(2,3))"
      ],
      "execution_count": 1,
      "outputs": [
        {
          "output_type": "stream",
          "name": "stdout",
          "text": [
            "hello\n",
            "5\n",
            "6\n"
          ]
        }
      ]
    },
    {
      "cell_type": "markdown",
      "metadata": {
        "id": "MHjOEoC7TvXs"
      },
      "source": [
        "### **(2) NumPy**\n",
        "- NumPy is an abbreviation for Numerical Python. \\\n",
        "- It is a library that is specialized in processing **arrays**.  \\\n",
        "- It provides a high-performance multidimensional array object, **ndarray**, and tools for working with these arrays."
      ]
    },
    {
      "cell_type": "code",
      "metadata": {
        "colab": {
          "base_uri": "https://localhost:8080/"
        },
        "id": "HP72dotl3Xmc",
        "outputId": "470b4bcf-727c-4d5f-f2ec-b1acdda789c6"
      },
      "source": [
        "import numpy as np\n",
        "import time\n",
        "\n",
        "np.random.seed(0)\n",
        "a = np.random.random((10,10))\n",
        "b = np.zeros((10,10))\n",
        "start = time.time()\n",
        "for i in range(10000):\n",
        "    b=b+a\n",
        "print(\"time :\", time.time() - start)\n",
        "\n",
        "a = a.tolist()\n",
        "b = [[0]*10]*10\n",
        "start = time.time()\n",
        "for i in range(10000):\n",
        "    b=b+a\n",
        "print(\"time :\", time.time() - start)"
      ],
      "execution_count": 33,
      "outputs": [
        {
          "output_type": "stream",
          "name": "stdout",
          "text": [
            "time : 0.014719963073730469\n",
            "time : 1.5893282890319824\n"
          ]
        }
      ]
    },
    {
      "cell_type": "markdown",
      "metadata": {
        "id": "MJsrr8S9rlAJ"
      },
      "source": [
        "#### **1) Initializing ndarray**"
      ]
    },
    {
      "cell_type": "code",
      "metadata": {
        "id": "PK6eGqaNpJSD"
      },
      "source": [
        "import numpy as np  #convention"
      ],
      "execution_count": 2,
      "outputs": []
    },
    {
      "cell_type": "code",
      "metadata": {
        "colab": {
          "base_uri": "https://localhost:8080/"
        },
        "id": "vRXehyZopMjs",
        "outputId": "fdd1ed50-0d4f-4136-9fda-d74a1e85cbcc"
      },
      "source": [
        "np.array([1,2,3.,4,'g'])  #each element of ndarray has the same data type."
      ],
      "execution_count": 5,
      "outputs": [
        {
          "output_type": "execute_result",
          "data": {
            "text/plain": [
              "array(['1', '2', '3.0', '4', 'g'], dtype='<U32')"
            ]
          },
          "metadata": {},
          "execution_count": 5
        }
      ]
    },
    {
      "cell_type": "code",
      "metadata": {
        "colab": {
          "base_uri": "https://localhost:8080/"
        },
        "id": "cRt3O6Oop0Ie",
        "outputId": "a8120a59-c6c1-4de4-f6a6-ffa1a902c58b"
      },
      "source": [
        "np.array([1,2,3,4], dtype=np.float) #designate data type"
      ],
      "execution_count": 6,
      "outputs": [
        {
          "output_type": "execute_result",
          "data": {
            "text/plain": [
              "array([1., 2., 3., 4.])"
            ]
          },
          "metadata": {},
          "execution_count": 6
        }
      ]
    },
    {
      "cell_type": "code",
      "metadata": {
        "colab": {
          "base_uri": "https://localhost:8080/"
        },
        "id": "MXLNcX3JrRav",
        "outputId": "5d9f6519-85ae-46ee-f095-86acccec60d9"
      },
      "source": [
        "np.array([range(i,i+3) for i in [1,4,7]]) #list comprehension"
      ],
      "execution_count": 7,
      "outputs": [
        {
          "output_type": "execute_result",
          "data": {
            "text/plain": [
              "array([[1, 2, 3],\n",
              "       [4, 5, 6],\n",
              "       [7, 8, 9]])"
            ]
          },
          "metadata": {},
          "execution_count": 7
        }
      ]
    },
    {
      "cell_type": "code",
      "metadata": {
        "colab": {
          "base_uri": "https://localhost:8080/"
        },
        "id": "e8zBr524rf96",
        "outputId": "3ece557d-f249-4345-8393-d050b2738d93"
      },
      "source": [
        "np.zeros(5) #zero matrix(vector)"
      ],
      "execution_count": 8,
      "outputs": [
        {
          "output_type": "execute_result",
          "data": {
            "text/plain": [
              "array([0., 0., 0., 0., 0.])"
            ]
          },
          "metadata": {},
          "execution_count": 8
        }
      ]
    },
    {
      "cell_type": "code",
      "metadata": {
        "colab": {
          "base_uri": "https://localhost:8080/"
        },
        "id": "4ae_GoV-sPpi",
        "outputId": "1f5a1358-40e0-4342-cabf-1a5fa068865e"
      },
      "source": [
        "4 * np.ones((2,3))"
      ],
      "execution_count": 11,
      "outputs": [
        {
          "output_type": "execute_result",
          "data": {
            "text/plain": [
              "array([[4., 4., 4.],\n",
              "       [4., 4., 4.]])"
            ]
          },
          "metadata": {},
          "execution_count": 11
        }
      ]
    },
    {
      "cell_type": "code",
      "metadata": {
        "colab": {
          "base_uri": "https://localhost:8080/"
        },
        "id": "GS8OyZ8dsUEC",
        "outputId": "21acaceb-a383-481d-f251-74f5ccd4881c"
      },
      "source": [
        "np.full((2,3),4.)"
      ],
      "execution_count": 12,
      "outputs": [
        {
          "output_type": "execute_result",
          "data": {
            "text/plain": [
              "array([[4., 4., 4.],\n",
              "       [4., 4., 4.]])"
            ]
          },
          "metadata": {},
          "execution_count": 12
        }
      ]
    },
    {
      "cell_type": "code",
      "metadata": {
        "colab": {
          "base_uri": "https://localhost:8080/"
        },
        "id": "-J7aZfW8sg7Y",
        "outputId": "07126e8f-2fd7-48b0-e646-a21c19433e45"
      },
      "source": [
        "np.arange(0,10,2)"
      ],
      "execution_count": 13,
      "outputs": [
        {
          "output_type": "execute_result",
          "data": {
            "text/plain": [
              "array([0, 2, 4, 6, 8])"
            ]
          },
          "metadata": {},
          "execution_count": 13
        }
      ]
    },
    {
      "cell_type": "code",
      "metadata": {
        "colab": {
          "base_uri": "https://localhost:8080/"
        },
        "id": "xDwJO1g-soET",
        "outputId": "b7383bf0-51b1-4e7d-f261-19dbb8105771"
      },
      "source": [
        "np.linspace(0,10,5)  #equally spaced intervals"
      ],
      "execution_count": 14,
      "outputs": [
        {
          "output_type": "execute_result",
          "data": {
            "text/plain": [
              "array([ 0. ,  2.5,  5. ,  7.5, 10. ])"
            ]
          },
          "metadata": {},
          "execution_count": 14
        }
      ]
    },
    {
      "cell_type": "markdown",
      "metadata": {
        "id": "9cNcFBdOtEoT"
      },
      "source": [
        "#### **3) random**"
      ]
    },
    {
      "cell_type": "code",
      "metadata": {
        "colab": {
          "base_uri": "https://localhost:8080/"
        },
        "id": "9K1_eq7C-6e8",
        "outputId": "7426a8c0-a2b6-428d-e041-7549d75ec833"
      },
      "source": [
        "np.random.seed(2)\n",
        "a = np.random.rand(3,3)  #uniform distribution 0~1\n",
        "np.random.seed(2)\n",
        "b = np.random.random((3,3))\n",
        "print(a)\n",
        "print(b)"
      ],
      "execution_count": 28,
      "outputs": [
        {
          "output_type": "stream",
          "name": "stdout",
          "text": [
            "[[0.4359949  0.02592623 0.54966248]\n",
            " [0.43532239 0.4203678  0.33033482]\n",
            " [0.20464863 0.61927097 0.29965467]]\n",
            "[[0.4359949  0.02592623 0.54966248]\n",
            " [0.43532239 0.4203678  0.33033482]\n",
            " [0.20464863 0.61927097 0.29965467]]\n"
          ]
        }
      ]
    },
    {
      "cell_type": "code",
      "metadata": {
        "id": "dS5x12nD_LEy",
        "colab": {
          "base_uri": "https://localhost:8080/"
        },
        "outputId": "fc09f66f-09a6-4d58-9587-e24d6fb442b6"
      },
      "source": [
        "np.random.randn(3)  #standard normal distribution"
      ],
      "execution_count": 29,
      "outputs": [
        {
          "output_type": "execute_result",
          "data": {
            "text/plain": [
              "array([ 0.73954567, -1.42356496, -1.11072776])"
            ]
          },
          "metadata": {},
          "execution_count": 29
        }
      ]
    },
    {
      "cell_type": "code",
      "metadata": {
        "colab": {
          "base_uri": "https://localhost:8080/"
        },
        "id": "2A8cr6D6tUzq",
        "outputId": "4f06bfc5-420f-4fad-a501-2513081c60cb"
      },
      "source": [
        "np.random.normal(3,1,(3,3)) #normal distribution"
      ],
      "execution_count": 30,
      "outputs": [
        {
          "output_type": "execute_result",
          "data": {
            "text/plain": [
              "array([[3.08858007, 1.64576946, 3.05827069],\n",
              "       [3.48008484, 3.38699051, 4.21046817],\n",
              "       [2.97987046, 3.01039395, 2.16716205]])"
            ]
          },
          "metadata": {},
          "execution_count": 30
        }
      ]
    },
    {
      "cell_type": "code",
      "metadata": {
        "colab": {
          "base_uri": "https://localhost:8080/"
        },
        "id": "qxaAfjJItM0B",
        "outputId": "e44a6875-f880-4db1-82ce-53c3cdcccf7c"
      },
      "source": [
        "np.random.randint(0,10,(2,3))  #random integers"
      ],
      "execution_count": 32,
      "outputs": [
        {
          "output_type": "execute_result",
          "data": {
            "text/plain": [
              "array([[2, 4, 1],\n",
              "       [7, 8, 2]])"
            ]
          },
          "metadata": {},
          "execution_count": 32
        }
      ]
    },
    {
      "cell_type": "markdown",
      "metadata": {
        "id": "0Wsx0_S3ulNU"
      },
      "source": [
        "#### **2) Attributes**"
      ]
    },
    {
      "cell_type": "code",
      "metadata": {
        "colab": {
          "base_uri": "https://localhost:8080/"
        },
        "id": "QOlSKeEiur4U",
        "outputId": "904a1c74-e7a5-487a-9a39-c0431d2b1dc7"
      },
      "source": [
        "arr1 = np.random.randint(5, size = 6)\n",
        "arr2 = np.random.random((2,3))\n",
        "print(arr1)\n",
        "print(\"ndim: %d, shape: %s, size: %d, dtype: %s\\n\" % (arr1.ndim, arr1.shape, arr1.size, arr1.dtype))\n",
        "print(arr2)\n",
        "print(\"ndim: %d, shape: %s, size: %d, dtype: %s\\n\" % (arr2.ndim, arr2.shape, arr2.size, arr2.dtype))"
      ],
      "execution_count": 34,
      "outputs": [
        {
          "output_type": "stream",
          "name": "stdout",
          "text": [
            "[2 3 2 3 0 0]\n",
            "ndim: 1, shape: (6,), size: 6, dtype: int64\n",
            "\n",
            "[[0.75610669 0.39609828 0.89603839]\n",
            " [0.63892108 0.89155444 0.68005557]]\n",
            "ndim: 2, shape: (2, 3), size: 6, dtype: float64\n",
            "\n"
          ]
        }
      ]
    },
    {
      "cell_type": "markdown",
      "metadata": {
        "id": "iMSrdoAJzToS"
      },
      "source": [
        "#### **3) Indexing**"
      ]
    },
    {
      "cell_type": "code",
      "metadata": {
        "colab": {
          "base_uri": "https://localhost:8080/"
        },
        "id": "zwEwqYKKv6IP",
        "outputId": "fc4ef65e-a882-4837-dcc9-496080cd53a3"
      },
      "source": [
        "arr1[0], arr1[3], arr1[-2], arr1[2:4], arr1[2:], arr1[0:4:1], arr1[::2], arr1[:], arr1[::-1]"
      ],
      "execution_count": 35,
      "outputs": [
        {
          "output_type": "execute_result",
          "data": {
            "text/plain": [
              "(2,\n",
              " 3,\n",
              " 0,\n",
              " array([2, 3]),\n",
              " array([2, 3, 0, 0]),\n",
              " array([2, 3, 2, 3]),\n",
              " array([2, 2, 0]),\n",
              " array([2, 3, 2, 3, 0, 0]),\n",
              " array([0, 0, 3, 2, 3, 2]))"
            ]
          },
          "metadata": {},
          "execution_count": 35
        }
      ]
    },
    {
      "cell_type": "code",
      "metadata": {
        "colab": {
          "base_uri": "https://localhost:8080/"
        },
        "id": "ce_4swYowYfM",
        "outputId": "8efa22e9-b094-402f-8af1-a8c7fc494512"
      },
      "source": [
        "a = np.arange(12)\n",
        "arr2 = np.arange(12).reshape(-1,4)\n",
        "arr2 = np.arange(36).reshape(4,3,3)\n",
        "print(a)\n",
        "print(arr2)"
      ],
      "execution_count": 39,
      "outputs": [
        {
          "output_type": "stream",
          "name": "stdout",
          "text": [
            "[ 0  1  2  3  4  5  6  7  8  9 10 11]\n",
            "[[[ 0  1  2]\n",
            "  [ 3  4  5]\n",
            "  [ 6  7  8]]\n",
            "\n",
            " [[ 9 10 11]\n",
            "  [12 13 14]\n",
            "  [15 16 17]]\n",
            "\n",
            " [[18 19 20]\n",
            "  [21 22 23]\n",
            "  [24 25 26]]\n",
            "\n",
            " [[27 28 29]\n",
            "  [30 31 32]\n",
            "  [33 34 35]]]\n"
          ]
        }
      ]
    },
    {
      "cell_type": "code",
      "metadata": {
        "id": "QXmo3UzvuYfW",
        "colab": {
          "base_uri": "https://localhost:8080/"
        },
        "outputId": "0bd00ba2-de91-4fde-f4a0-bf732b74b572"
      },
      "source": [
        "print(arr2[1, 2])\n",
        "print(arr2[1:3, 2]) \n",
        "print(arr2[:, :]) \n",
        "print(arr2[1:, :2]) \n",
        "print(arr2[:2, 2::-1])\n",
        "print(arr2[-1])"
      ],
      "execution_count": 40,
      "outputs": [
        {
          "output_type": "stream",
          "name": "stdout",
          "text": [
            "[15 16 17]\n",
            "[[15 16 17]\n",
            " [24 25 26]]\n",
            "[[[ 0  1  2]\n",
            "  [ 3  4  5]\n",
            "  [ 6  7  8]]\n",
            "\n",
            " [[ 9 10 11]\n",
            "  [12 13 14]\n",
            "  [15 16 17]]\n",
            "\n",
            " [[18 19 20]\n",
            "  [21 22 23]\n",
            "  [24 25 26]]\n",
            "\n",
            " [[27 28 29]\n",
            "  [30 31 32]\n",
            "  [33 34 35]]]\n",
            "[[[ 9 10 11]\n",
            "  [12 13 14]]\n",
            "\n",
            " [[18 19 20]\n",
            "  [21 22 23]]\n",
            "\n",
            " [[27 28 29]\n",
            "  [30 31 32]]]\n",
            "[[[ 6  7  8]\n",
            "  [ 3  4  5]\n",
            "  [ 0  1  2]]\n",
            "\n",
            " [[15 16 17]\n",
            "  [12 13 14]\n",
            "  [ 9 10 11]]]\n",
            "[[27 28 29]\n",
            " [30 31 32]\n",
            " [33 34 35]]\n"
          ]
        }
      ]
    },
    {
      "cell_type": "code",
      "metadata": {
        "colab": {
          "base_uri": "https://localhost:8080/"
        },
        "id": "aO6fvba0MoSw",
        "outputId": "151830b5-3e0f-4006-9ae9-8b54f6174668"
      },
      "source": [
        "arr1 = np.array([1,2,3,4,5,6])\n",
        "arr2 = arr1.reshape(2,-1)\n",
        "arr2"
      ],
      "execution_count": 41,
      "outputs": [
        {
          "output_type": "execute_result",
          "data": {
            "text/plain": [
              "array([[1, 2, 3],\n",
              "       [4, 5, 6]])"
            ]
          },
          "metadata": {},
          "execution_count": 41
        }
      ]
    },
    {
      "cell_type": "code",
      "metadata": {
        "colab": {
          "base_uri": "https://localhost:8080/"
        },
        "id": "oozxyEzsNOTp",
        "outputId": "e1129b80-3db5-4908-8078-a786c28c6a16"
      },
      "source": [
        "np.concatenate([arr2, arr2], axis = 0)"
      ],
      "execution_count": 42,
      "outputs": [
        {
          "output_type": "execute_result",
          "data": {
            "text/plain": [
              "array([[1, 2, 3],\n",
              "       [4, 5, 6],\n",
              "       [1, 2, 3],\n",
              "       [4, 5, 6]])"
            ]
          },
          "metadata": {},
          "execution_count": 42
        }
      ]
    },
    {
      "cell_type": "code",
      "metadata": {
        "colab": {
          "base_uri": "https://localhost:8080/"
        },
        "id": "xomN3VbeNZGD",
        "outputId": "3e551954-1395-4c68-a1d1-f5d2ff2c0127"
      },
      "source": [
        "np.concatenate([arr2, arr2], axis = 1)"
      ],
      "execution_count": 43,
      "outputs": [
        {
          "output_type": "execute_result",
          "data": {
            "text/plain": [
              "array([[1, 2, 3, 1, 2, 3],\n",
              "       [4, 5, 6, 4, 5, 6]])"
            ]
          },
          "metadata": {},
          "execution_count": 43
        }
      ]
    },
    {
      "cell_type": "markdown",
      "metadata": {
        "id": "sO4_fo0eNk0U"
      },
      "source": [
        "#### **4) Universal function (ufunc)**"
      ]
    },
    {
      "cell_type": "code",
      "metadata": {
        "colab": {
          "base_uri": "https://localhost:8080/"
        },
        "id": "huffHGojNuu4",
        "outputId": "7dfc7c10-3baa-481b-d294-be05da8735f8"
      },
      "source": [
        "np.random.seed(0)\n",
        "\n",
        "arr2 = np.random.randint(1, 10, (3,4))\n",
        "arr2"
      ],
      "execution_count": 44,
      "outputs": [
        {
          "output_type": "execute_result",
          "data": {
            "text/plain": [
              "array([[6, 1, 4, 4],\n",
              "       [8, 4, 6, 3],\n",
              "       [5, 8, 7, 9]])"
            ]
          },
          "metadata": {},
          "execution_count": 44
        }
      ]
    },
    {
      "cell_type": "code",
      "metadata": {
        "colab": {
          "base_uri": "https://localhost:8080/"
        },
        "id": "GMS3RjIBOYHz",
        "outputId": "731980e5-03d6-497d-e8da-994b36a93cb7"
      },
      "source": [
        "np.sum(arr2), arr2.sum()"
      ],
      "execution_count": 45,
      "outputs": [
        {
          "output_type": "execute_result",
          "data": {
            "text/plain": [
              "(65, 65)"
            ]
          },
          "metadata": {},
          "execution_count": 45
        }
      ]
    },
    {
      "cell_type": "code",
      "metadata": {
        "colab": {
          "base_uri": "https://localhost:8080/"
        },
        "id": "gghZcgHxOizh",
        "outputId": "2c155bdc-2943-4999-ee2c-b08a3f8a2737"
      },
      "source": [
        "np.sum(arr2, axis = 0), arr2.sum(axis = 0)"
      ],
      "execution_count": 46,
      "outputs": [
        {
          "output_type": "execute_result",
          "data": {
            "text/plain": [
              "(array([19, 13, 17, 16]), array([19, 13, 17, 16]))"
            ]
          },
          "metadata": {},
          "execution_count": 46
        }
      ]
    },
    {
      "cell_type": "code",
      "metadata": {
        "colab": {
          "base_uri": "https://localhost:8080/"
        },
        "id": "1eD41jV8O5Nu",
        "outputId": "f4e558cd-2980-4f7d-d663-5ced073895c9"
      },
      "source": [
        "np.min(arr2, axis = 1), np.max(arr2, axis = 1), arr2.min(axis = 1), arr2.max(axis = 1)"
      ],
      "execution_count": 47,
      "outputs": [
        {
          "output_type": "execute_result",
          "data": {
            "text/plain": [
              "(array([1, 3, 5]), array([6, 8, 9]), array([1, 3, 5]), array([6, 8, 9]))"
            ]
          },
          "metadata": {},
          "execution_count": 47
        }
      ]
    },
    {
      "cell_type": "code",
      "metadata": {
        "colab": {
          "base_uri": "https://localhost:8080/"
        },
        "id": "1J7O4oOpPMBQ",
        "outputId": "4dbcf018-8285-47b1-f491-cc121adf1594"
      },
      "source": [
        "np.sin(arr2), np.square(arr2)"
      ],
      "execution_count": 48,
      "outputs": [
        {
          "output_type": "execute_result",
          "data": {
            "text/plain": [
              "(array([[-0.2794155 ,  0.84147098, -0.7568025 , -0.7568025 ],\n",
              "        [ 0.98935825, -0.7568025 , -0.2794155 ,  0.14112001],\n",
              "        [-0.95892427,  0.98935825,  0.6569866 ,  0.41211849]]),\n",
              " array([[36,  1, 16, 16],\n",
              "        [64, 16, 36,  9],\n",
              "        [25, 64, 49, 81]]))"
            ]
          },
          "metadata": {},
          "execution_count": 48
        }
      ]
    },
    {
      "cell_type": "markdown",
      "metadata": {
        "id": "bU0B033iPX8A"
      },
      "source": [
        "#### **5) Broadcasting**"
      ]
    },
    {
      "cell_type": "code",
      "metadata": {
        "colab": {
          "base_uri": "https://localhost:8080/"
        },
        "id": "kx3yrGmmPe7-",
        "outputId": "cceac23d-b800-479b-f1f4-d4146a331d94"
      },
      "source": [
        "np.random.seed(0)\n",
        "\n",
        "X = np.random.rand(10,3)\n",
        "X"
      ],
      "execution_count": 49,
      "outputs": [
        {
          "output_type": "execute_result",
          "data": {
            "text/plain": [
              "array([[0.5488135 , 0.71518937, 0.60276338],\n",
              "       [0.54488318, 0.4236548 , 0.64589411],\n",
              "       [0.43758721, 0.891773  , 0.96366276],\n",
              "       [0.38344152, 0.79172504, 0.52889492],\n",
              "       [0.56804456, 0.92559664, 0.07103606],\n",
              "       [0.0871293 , 0.0202184 , 0.83261985],\n",
              "       [0.77815675, 0.87001215, 0.97861834],\n",
              "       [0.79915856, 0.46147936, 0.78052918],\n",
              "       [0.11827443, 0.63992102, 0.14335329],\n",
              "       [0.94466892, 0.52184832, 0.41466194]])"
            ]
          },
          "metadata": {},
          "execution_count": 49
        }
      ]
    },
    {
      "cell_type": "code",
      "metadata": {
        "colab": {
          "base_uri": "https://localhost:8080/"
        },
        "id": "SnJIpu4VPoC5",
        "outputId": "765bc60b-2c0f-4ecb-eef0-fe5aecb41828"
      },
      "source": [
        "Xmean = X.mean(axis = 0)\n",
        "Xmean"
      ],
      "execution_count": 50,
      "outputs": [
        {
          "output_type": "execute_result",
          "data": {
            "text/plain": [
              "array([0.52101579, 0.62614181, 0.59620338])"
            ]
          },
          "metadata": {},
          "execution_count": 50
        }
      ]
    },
    {
      "cell_type": "code",
      "metadata": {
        "colab": {
          "base_uri": "https://localhost:8080/"
        },
        "id": "IFKwxIMmPvue",
        "outputId": "7d5575ca-4669-42ed-dfff-1a54ea3e0a60"
      },
      "source": [
        "Xcentered = X - Xmean\n",
        "Xcentered"
      ],
      "execution_count": 51,
      "outputs": [
        {
          "output_type": "execute_result",
          "data": {
            "text/plain": [
              "array([[ 0.02779771,  0.08904756,  0.00655999],\n",
              "       [ 0.02386739, -0.20248701,  0.04969073],\n",
              "       [-0.08342858,  0.26563119,  0.36745938],\n",
              "       [-0.13757427,  0.16558323, -0.06730846],\n",
              "       [ 0.04702877,  0.29945483, -0.52516732],\n",
              "       [-0.43388649, -0.60592341,  0.23641646],\n",
              "       [ 0.25714096,  0.24387034,  0.38241496],\n",
              "       [ 0.27814277, -0.16466245,  0.18432579],\n",
              "       [-0.40274137,  0.01377921, -0.45285009],\n",
              "       [ 0.42365312, -0.10429349, -0.18154144]])"
            ]
          },
          "metadata": {},
          "execution_count": 51
        }
      ]
    },
    {
      "cell_type": "code",
      "metadata": {
        "id": "rfq8VCqGFYAX",
        "colab": {
          "base_uri": "https://localhost:8080/"
        },
        "outputId": "32667a3d-fa0c-4cdc-c80f-5d769f567737"
      },
      "source": [
        "arr1 = np.array([1,2,3])\n",
        "\n",
        "arr1 + 1"
      ],
      "execution_count": 52,
      "outputs": [
        {
          "output_type": "execute_result",
          "data": {
            "text/plain": [
              "array([2, 3, 4])"
            ]
          },
          "metadata": {},
          "execution_count": 52
        }
      ]
    },
    {
      "cell_type": "markdown",
      "metadata": {
        "id": "31ZoU5xa4beO"
      },
      "source": [
        "### **(3) Matplotlib**\n",
        "- Matplotlib is a cross-platform, **data visualization** and **graphical plotting** library for Python and its numerical extension NumPy."
      ]
    },
    {
      "cell_type": "code",
      "metadata": {
        "colab": {
          "base_uri": "https://localhost:8080/"
        },
        "id": "uOzut8a-HQZt",
        "outputId": "bfdcae42-0b31-46af-faaf-10a1281fe29f"
      },
      "source": [
        "import matplotlib as mpl           #convention\n",
        "import matplotlib.pyplot as plt    #convention\n",
        "\n",
        "print(plt.style.available)\n",
        "plt.style.use(\"seaborn-whitegrid\")"
      ],
      "execution_count": 53,
      "outputs": [
        {
          "output_type": "stream",
          "name": "stdout",
          "text": [
            "['Solarize_Light2', '_classic_test_patch', 'bmh', 'classic', 'dark_background', 'fast', 'fivethirtyeight', 'ggplot', 'grayscale', 'seaborn', 'seaborn-bright', 'seaborn-colorblind', 'seaborn-dark', 'seaborn-dark-palette', 'seaborn-darkgrid', 'seaborn-deep', 'seaborn-muted', 'seaborn-notebook', 'seaborn-paper', 'seaborn-pastel', 'seaborn-poster', 'seaborn-talk', 'seaborn-ticks', 'seaborn-white', 'seaborn-whitegrid', 'tableau-colorblind10']\n"
          ]
        }
      ]
    },
    {
      "cell_type": "markdown",
      "metadata": {
        "id": "B0sw_-woGojk"
      },
      "source": [
        "#### **1) Line plot**"
      ]
    },
    {
      "cell_type": "code",
      "metadata": {
        "colab": {
          "base_uri": "https://localhost:8080/",
          "height": 291
        },
        "id": "itvm2cDkHh1h",
        "outputId": "a0afb2d0-38ee-41b1-99df-beed1fdf23e4"
      },
      "source": [
        "\"\"\" Pyplot API: Automatically create the necessary figure and axes to achieve \n",
        "the desired plot \"\"\"\n",
        "\n",
        "import numpy as np\n",
        "\n",
        "x = np.linspace(0,10,100)\n",
        "\n",
        "plt.plot(x, np.sin(x), \"-\", linewidth = 1, label = \"sin(x)\")\n",
        "plt.plot(x, np.cos(x), \"--\", linewidth = 1, label = \"cos(x)\")\n",
        "plt.xlim(0,10)\n",
        "plt.ylim(-1,1)\n",
        "plt.title(\"Sine & Cosine Curve\")\n",
        "plt.xlabel(\"x\")\n",
        "plt.margins(0,0)\n",
        "plt.axis(\"equal\")\n",
        "plt.legend()\n",
        "plt.show()"
      ],
      "execution_count": 55,
      "outputs": [
        {
          "output_type": "display_data",
          "data": {
            "image/png": "[encoded data removed]",
            "text/plain": [
              "<Figure size 432x288 with 1 Axes>"
            ]
          },
          "metadata": {}
        }
      ]
    },
    {
      "cell_type": "code",
      "metadata": {
        "colab": {
          "base_uri": "https://localhost:8080/",
          "height": 291
        },
        "id": "X3hcMwq8A63u",
        "outputId": "fa578516-ab7c-4c6c-952f-e5f0458dfe89"
      },
      "source": [
        "plt.subplot(2,1,1)\n",
        "plt.plot(x, np.sin(x), 'b-', linewidth = 1, label = \"sin(x)\")\n",
        "plt.title(\"Sine & Cosine Curve\")\n",
        "plt.axis([0, 10, -1, 1])\n",
        "plt.legend()\n",
        "\n",
        "plt.subplot(2,1,2)\n",
        "plt.plot(x, np.cos(x), 'g-', linewidth = 1, label = \"cos(x)\")\n",
        "plt.xlabel(\"x\")\n",
        "plt.axis([0, 10, -1, 1])\n",
        "plt.legend()\n",
        "plt.show()"
      ],
      "execution_count": 56,
      "outputs": [
        {
          "output_type": "display_data",
          "data": {
            "image/png": "[encoded data removed]",
            "text/plain": [
              "<Figure size 432x288 with 2 Axes>"
            ]
          },
          "metadata": {}
        }
      ]
    },
    {
      "cell_type": "code",
      "metadata": {
        "colab": {
          "base_uri": "https://localhost:8080/",
          "height": 291
        },
        "id": "j2JFshu6Ib-q",
        "outputId": "030ba3ae-2780-4c70-bd47-7b8318070f71"
      },
      "source": [
        "\"\"\" Object oriented API \"\"\"\n",
        "\n",
        "fig = plt.figure() #make figure object\n",
        "ax = plt.axes() #make axes object\n",
        "\n",
        "x = np.linspace(0,10,100)\n",
        "\n",
        "ax.plot(x, np.sin(x), \"-\", linewidth = 1, label = \"sin(x)\")\n",
        "ax.plot(x, np.cos(x), \"--\", linewidth = 1, label = \"cos(x)\")\n",
        "ax.set_xlim(0, 10)\n",
        "ax.set_ylim(-1, 1)\n",
        "ax.set_title(\"Sine & Cosine Curve\")\n",
        "ax.set_xlabel(\"x\")\n",
        "ax.legend()\n",
        "plt.show()"
      ],
      "execution_count": 57,
      "outputs": [
        {
          "output_type": "display_data",
          "data": {
            "image/png": "[encoded data removed]",
            "text/plain": [
              "<Figure size 432x288 with 1 Axes>"
            ]
          },
          "metadata": {}
        }
      ]
    },
    {
      "cell_type": "code",
      "metadata": {
        "colab": {
          "base_uri": "https://localhost:8080/",
          "height": 291
        },
        "id": "U3COy_UoBf0S",
        "outputId": "6fb58f02-83dd-4e55-e3f0-6846d576e04c"
      },
      "source": [
        "fig = plt.figure()\n",
        "\n",
        "ax1 = fig.add_subplot(2,1,1)\n",
        "ax1.plot(x, np.sin(x), \"b-\", linewidth = 1, label = \"sin(x)\")\n",
        "ax1.set(xlim = [0, 10], ylim = [-1, 1])\n",
        "ax1.set_title(\"Sine & Cosine Curve\")\n",
        "ax1.legend()\n",
        "\n",
        "ax2 = fig.add_subplot(2,1,2)\n",
        "ax2.plot(x, np.cos(x), \"g-\", linewidth = 1, label = \"cos(x)\")\n",
        "ax2.set(xlim = [0, 10], ylim = [-1, 1], xlabel = \"x\")\n",
        "ax2.legend()\n",
        "plt.show()"
      ],
      "execution_count": 58,
      "outputs": [
        {
          "output_type": "display_data",
          "data": {
            "image/png": "[encoded data removed]",
            "text/plain": [
              "<Figure size 432x288 with 2 Axes>"
            ]
          },
          "metadata": {}
        }
      ]
    },
    {
      "cell_type": "code",
      "metadata": {
        "colab": {
          "base_uri": "https://localhost:8080/",
          "height": 291
        },
        "id": "xyq44Ieg6IVW",
        "outputId": "6377fde0-1803-4a31-c5d0-c00f4fb15e77"
      },
      "source": [
        "### subplots function\n",
        "\n",
        "fig, ax = plt.subplots(2, 1)\n",
        "\n",
        "ax[0].plot(x, np.sin(x), 'b-', linewidth = 1, label = \"sin(x)\")\n",
        "ax[0].set_title(\"Sine & Cosine Curve\")\n",
        "ax[0].set(xlim = [0, 10], ylim = [-1, 1])\n",
        "ax[0].legend()\n",
        "\n",
        "ax[1].plot(x, np.cos(x), 'g-', linewidth = 1, label = \"cos(x)\")\n",
        "ax[1].set(xlim = [0, 10], ylim = [-1, 1], xlabel = \"x\")\n",
        "ax[1].legend()\n",
        "plt.show()"
      ],
      "execution_count": 59,
      "outputs": [
        {
          "output_type": "display_data",
          "data": {
            "image/png": "[encoded data removed]",
            "text/plain": [
              "<Figure size 432x288 with 2 Axes>"
            ]
          },
          "metadata": {}
        }
      ]
    },
    {
      "cell_type": "markdown",
      "metadata": {
        "id": "C091vNXsGyLk"
      },
      "source": [
        "#### **2) Histogram**"
      ]
    },
    {
      "cell_type": "code",
      "metadata": {
        "colab": {
          "base_uri": "https://localhost:8080/",
          "height": 265
        },
        "id": "s_ePJGc5G5AQ",
        "outputId": "677a327d-862f-4947-f7d1-e26c7188f97e"
      },
      "source": [
        "import numpy as np\n",
        "import matplotlib.pyplot as plt\n",
        "\n",
        "np.random.seed(0)\n",
        "\n",
        "mu = 60\n",
        "sigma = 5\n",
        "x = np.random.normal(mu, sigma, 10000)\n",
        "\n",
        "plt.hist(x, rwidth = 0.9, bins = 16)\n",
        "plt.show()"
      ],
      "execution_count": 60,
      "outputs": [
        {
          "output_type": "display_data",
          "data": {
            "image/png": "[encoded data removed]",
            "text/plain": [
              "<Figure size 432x288 with 1 Axes>"
            ]
          },
          "metadata": {}
        }
      ]
    },
    {
      "cell_type": "markdown",
      "metadata": {
        "id": "MBfXdZnGHp0f"
      },
      "source": [
        "#### **3) Image plot**"
      ]
    },
    {
      "cell_type": "code",
      "metadata": {
        "id": "EBa8u_-KHtYP"
      },
      "source": [
        "from sklearn.datasets import load_digits"
      ],
      "execution_count": 61,
      "outputs": []
    },
    {
      "cell_type": "code",
      "metadata": {
        "colab": {
          "base_uri": "https://localhost:8080/"
        },
        "id": "-NzlWqk2HyQx",
        "outputId": "0c268c23-bb5c-40e5-aca5-89f3aa56e631"
      },
      "source": [
        "digits = load_digits()\n",
        "digits.keys()"
      ],
      "execution_count": 62,
      "outputs": [
        {
          "output_type": "execute_result",
          "data": {
            "text/plain": [
              "dict_keys(['data', 'target', 'target_names', 'images', 'DESCR'])"
            ]
          },
          "metadata": {},
          "execution_count": 62
        }
      ]
    },
    {
      "cell_type": "code",
      "metadata": {
        "colab": {
          "base_uri": "https://localhost:8080/"
        },
        "id": "JplPPXGXH5PL",
        "outputId": "7291584d-989a-4c82-c25d-22402f104b49"
      },
      "source": [
        "digits.images[1]"
      ],
      "execution_count": 63,
      "outputs": [
        {
          "output_type": "execute_result",
          "data": {
            "text/plain": [
              "array([[ 0.,  0.,  0., 12., 13.,  5.,  0.,  0.],\n",
              "       [ 0.,  0.,  0., 11., 16.,  9.,  0.,  0.],\n",
              "       [ 0.,  0.,  3., 15., 16.,  6.,  0.,  0.],\n",
              "       [ 0.,  7., 15., 16., 16.,  2.,  0.,  0.],\n",
              "       [ 0.,  0.,  1., 16., 16.,  3.,  0.,  0.],\n",
              "       [ 0.,  0.,  1., 16., 16.,  6.,  0.,  0.],\n",
              "       [ 0.,  0.,  1., 16., 16.,  6.,  0.,  0.],\n",
              "       [ 0.,  0.,  0., 11., 16., 10.,  0.,  0.]])"
            ]
          },
          "metadata": {},
          "execution_count": 63
        }
      ]
    },
    {
      "cell_type": "code",
      "metadata": {
        "colab": {
          "base_uri": "https://localhost:8080/",
          "height": 303
        },
        "id": "DujwWhkEILiu",
        "outputId": "c0bf5f30-0e52-44e4-8f26-3c5eabd3ea05"
      },
      "source": [
        "fig, ax = plt.subplots(10, 10, figsize = (5,5))\n",
        "for i, ax_i in enumerate(ax.flat):\n",
        "  ax_i.imshow(digits.images[i], cmap = \"binary\")\n",
        "  ax_i.set(xticks=[], yticks=[])"
      ],
      "execution_count": 64,
      "outputs": [
        {
          "output_type": "display_data",
          "data": {
            "image/png": "[encoded data removed]",
            "text/plain": [
              "<Figure size 360x360 with 100 Axes>"
            ]
          },
          "metadata": {}
        }
      ]
    },
    {
      "cell_type": "markdown",
      "metadata": {
        "id": "jbQ3WC_tcpjR"
      },
      "source": [
        "### **References**\n",
        "#### [1] Lubanovic, Bill. Introducing Python (Modern Computing in Simple Packages), O'Reilly Media (2019).\n",
        "(번역본 : 처음 시작하는 파이썬)\n",
        "#### [2] https://wikidocs.net/book/2\n",
        "#### [3] https://wikidocs.net/book/1553\n",
        "#### [4] https://www.youtube.com/c/kictbigdata"
      ]
    }
  ]
}