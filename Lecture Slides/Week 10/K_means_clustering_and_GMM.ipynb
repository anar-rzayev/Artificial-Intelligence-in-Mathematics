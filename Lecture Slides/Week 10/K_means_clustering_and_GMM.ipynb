{
  "nbformat": 4,
  "nbformat_minor": 0,
  "metadata": {
    "kernelspec": {
      "display_name": "Python 3",
      "language": "python",
      "name": "python3"
    },
    "language_info": {
      "codemirror_mode": {
        "name": "ipython",
        "version": 3
      },
      "file_extension": ".py",
      "mimetype": "text/x-python",
      "name": "python",
      "nbconvert_exporter": "python",
      "pygments_lexer": "ipython3",
      "version": "3.7.3"
    },
    "colab": {
      "name": "K-means clustering and GMM.ipynb",
      "provenance": []
    }
  },
  "cells": [
    {
      "cell_type": "markdown",
      "metadata": {
        "id": "9aODJIPEdXWf"
      },
      "source": [
        "### K-means clustering\n",
        "The iris data is the most famous reference data in classification. It has three class, setosa, versicolor and virginica. \n",
        "Here, we classify the iris data using K-means clustering and check its performance."
      ]
    },
    {
      "cell_type": "markdown",
      "metadata": {
        "id": "3MksqFvRdXWh"
      },
      "source": [
        "First, import some basic libraries such as pandas, numpy and matplotlib. Next, import sklearn to implement K-means clustering and datasets."
      ]
    },
    {
      "cell_type": "code",
      "metadata": {
        "id": "ZxYjpGZNdXWi"
      },
      "source": [
        "from sklearn import cluster, datasets\n",
        "import matplotlib.pyplot as plt\n",
        "iris = datasets.load_iris()"
      ],
      "execution_count": null,
      "outputs": []
    },
    {
      "cell_type": "markdown",
      "metadata": {
        "id": "FIqTuC02dXWj"
      },
      "source": [
        "Iris is a dictionary. By the following code, we can check some information about iris data.\n",
        "By printing iris, we can check that it has 150 arrays which have 4 features, length and width of sepal and petal. "
      ]
    },
    {
      "cell_type": "code",
      "metadata": {
        "id": "6ASH1aYhdXWj"
      },
      "source": [
        "print(iris)\n",
        "print(len(iris.data))\n",
        "print(iris.target_names)\n",
        "print(iris.target)"
      ],
      "execution_count": null,
      "outputs": []
    },
    {
      "cell_type": "markdown",
      "metadata": {
        "id": "jd9WytckdXWk"
      },
      "source": [
        "The Seaborn library offers a visualized iris data using pairs of features."
      ]
    },
    {
      "cell_type": "code",
      "metadata": {
        "id": "pzdTiTfedXWl"
      },
      "source": [
        "import seaborn as sns\n",
        "\n",
        "sns.set(style = 'ticks', color_codes = True)\n",
        "iris1 = sns.load_dataset(\"iris\")\n",
        "g = sns.pairplot(iris1, hue = \"species\", palette = \"husl\")"
      ],
      "execution_count": null,
      "outputs": []
    },
    {
      "cell_type": "markdown",
      "metadata": {
        "id": "8XY-iLHOdXWm"
      },
      "source": [
        "Use the sepal width and sepal length only for classification. Using cluster module in sklearn, we can easily run a K-means clustering algorithm.  "
      ]
    },
    {
      "cell_type": "code",
      "metadata": {
        "id": "7MgaEFJRdXWm"
      },
      "source": [
        "X = iris.data[:,:2]\n",
        "y_iris = iris.target\n",
        "\n",
        "km2 = cluster.KMeans(n_clusters = 2).fit(X)\n",
        "km3 = cluster.KMeans(n_clusters = 3).fit(X)\n",
        "km4 = cluster.KMeans(n_clusters = 4).fit(X)\n",
        "\n",
        "plt.figure(figsize=(9, 3))\n",
        "plt.subplot(131)\n",
        "plt.scatter(X[:, 0], X[:, 1], c=km2.labels_)\n",
        "plt.title(\"K=2, J=%.2f\" % km2.inertia_)\n",
        "plt.subplot(132)\n",
        "plt.scatter(X[:, 0], X[:, 1], c=km3.labels_)\n",
        "plt.title(\"K=3, J=%.2f\" % km3.inertia_)\n",
        "plt.subplot(133)\n",
        "plt.scatter(X[:, 0], X[:, 1], c=km4.labels_)\n",
        "plt.title(\"K=4, J=%.2f\" % km4.inertia_)\n"
      ],
      "execution_count": null,
      "outputs": []
    },
    {
      "cell_type": "markdown",
      "metadata": {
        "id": "W_nCi3pwdXWn"
      },
      "source": [
        "To check its performance, it is convinent to use the following function which gives an integer vector of the samples' labels."
      ]
    },
    {
      "cell_type": "code",
      "metadata": {
        "id": "y8H1KdMCdXWo"
      },
      "source": [
        "def kmeans(X,K):\n",
        "    km = cluster.KMeans(n_clusters = K).fit(X)\n",
        "    return km.labels_"
      ],
      "execution_count": null,
      "outputs": []
    },
    {
      "cell_type": "code",
      "metadata": {
        "id": "IeJdY17gwrAp"
      },
      "source": [
        "print(kmeans(X,3))\n",
        "print(iris.target)"
      ],
      "execution_count": null,
      "outputs": []
    },
    {
      "cell_type": "markdown",
      "metadata": {
        "id": "1X7khn7mdXWo"
      },
      "source": [
        "As we already know that the iris data are classified by 3 classes, assume $K=3$.  "
      ]
    },
    {
      "cell_type": "code",
      "metadata": {
        "id": "XNixXlPmdXWp"
      },
      "source": [
        "plt.figure(figsize=(8, 4))\n",
        "plt.subplot(121)\n",
        "plt.scatter(X[:, 0], X[:, 1], c=km3.labels_)\n",
        "plt.title(\"K=3, J=%.3f, using K-means clustering\" % km3.inertia_)\n",
        "plt.subplot(122)\n",
        "plt.scatter(X[:, 0], X[:, 1], c = y_iris)\n",
        "plt.title(\"True labels\")"
      ],
      "execution_count": null,
      "outputs": []
    },
    {
      "cell_type": "markdown",
      "metadata": {
        "id": "OQugauUkdXWq"
      },
      "source": [
        "Inertia of K-means clustering is based on Euclidean distance between samples and centroids $\\{\\mu_k\\}$.  \n",
        "\n",
        "In the sense of Euclidean distance, K-means clustering works well. However, two classes are not classified by the distance of sample's sepal width and sepal length.\n",
        "\n",
        "So, we can say that sepal width and sepal length are not good features for K-means clustering."
      ]
    },
    {
      "cell_type": "markdown",
      "metadata": {
        "id": "YYo5eZArdXWq"
      },
      "source": [
        "Instead of sepal, if we use the width and length of petal..."
      ]
    },
    {
      "cell_type": "code",
      "metadata": {
        "id": "gGL8G5VidXWq"
      },
      "source": [
        "XX = iris.data[:,2:4]\n",
        "\n",
        "km = cluster.KMeans(n_clusters = 3).fit(XX)\n",
        "\n",
        "plt.figure(figsize=(8, 4))\n",
        "plt.subplot(121)\n",
        "plt.scatter(XX[:, 0], XX[:, 1], c=km.labels_)\n",
        "plt.title(\"K=3, J=%.3f, using K-means clustering\" % km.inertia_)\n",
        "plt.subplot(122)\n",
        "plt.scatter(XX[:, 0], XX[:, 1], c = y_iris)\n",
        "plt.title(\"True labels\")"
      ],
      "execution_count": null,
      "outputs": []
    },
    {
      "cell_type": "markdown",
      "metadata": {
        "id": "VgmNzXbjcytG"
      },
      "source": [
        "## Gaussian mixture model"
      ]
    },
    {
      "cell_type": "code",
      "metadata": {
        "id": "x2boLYvZcytI"
      },
      "source": [
        "%matplotlib inline\n",
        "import matplotlib.pyplot as plt\n",
        "import numpy as np"
      ],
      "execution_count": null,
      "outputs": []
    },
    {
      "cell_type": "code",
      "metadata": {
        "id": "IGDGDGe3cytJ"
      },
      "source": [
        "from sklearn.datasets.samples_generator import make_blobs\n",
        "X, y_true = make_blobs(n_samples=400, centers=4, cluster_std=0.60, random_state=0)\n",
        "X = X[:, ::-1]"
      ],
      "execution_count": null,
      "outputs": []
    },
    {
      "cell_type": "code",
      "metadata": {
        "id": "A0Il0v2acytK"
      },
      "source": [
        "plt.scatter(X[:, 0], X[:, 1], s=40);"
      ],
      "execution_count": null,
      "outputs": []
    },
    {
      "cell_type": "code",
      "metadata": {
        "id": "UYPXBn9zcytL"
      },
      "source": [
        "from sklearn.cluster import KMeans\n",
        "kmeans = KMeans(4, random_state=0)\n",
        "labels = kmeans.fit(X).predict(X)\n",
        "plt.scatter(X[:, 0], X[:, 1], c=labels, s=40, cmap='viridis');"
      ],
      "execution_count": null,
      "outputs": []
    },
    {
      "cell_type": "code",
      "metadata": {
        "id": "58i0S2N3cytM"
      },
      "source": [
        "from scipy.spatial.distance import cdist\n",
        "\n",
        "def plot_kmeans(kmeans, X, n_clusters=4, rseed=0, ax=None):\n",
        "    labels = kmeans.fit_predict(X)\n",
        "\n",
        "    # plot the input data\n",
        "    ax = ax or plt.gca()\n",
        "    ax.axis('equal')\n",
        "    ax.scatter(X[:, 0], X[:, 1], c=labels, s=40, cmap='viridis', zorder=2)\n",
        "\n",
        "    # plot the representation of the KMeans model\n",
        "    centers = kmeans.cluster_centers_\n",
        "    radii = [cdist(X[labels == i], [center]).max()\n",
        "             for i, center in enumerate(centers)]\n",
        "    for c, r in zip(centers, radii):\n",
        "        ax.add_patch(plt.Circle(c, r, fc='#CCCCCC', lw=3, alpha=0.5, zorder=1))"
      ],
      "execution_count": null,
      "outputs": []
    },
    {
      "cell_type": "code",
      "metadata": {
        "id": "sMl-Vw9zcytM"
      },
      "source": [
        "kmeans = KMeans(n_clusters=4, random_state=0)\n",
        "plot_kmeans(kmeans, X)"
      ],
      "execution_count": null,
      "outputs": []
    },
    {
      "cell_type": "code",
      "metadata": {
        "id": "a8iFPiO0cytN"
      },
      "source": [
        "rng = np.random.RandomState(13)\n",
        "X_stretched = np.dot(X, rng.randn(2, 2))\n",
        "\n",
        "kmeans = KMeans(n_clusters=4, random_state=0)\n",
        "plot_kmeans(kmeans, X_stretched)"
      ],
      "execution_count": null,
      "outputs": []
    },
    {
      "cell_type": "markdown",
      "metadata": {
        "id": "0P3W3gtDcytO"
      },
      "source": [
        "Result for the transformed data."
      ]
    },
    {
      "cell_type": "code",
      "metadata": {
        "id": "9fe1YihccytO"
      },
      "source": [
        "from sklearn.mixture import GaussianMixture as GMM\n",
        "gmm = GMM(n_components=4).fit(X)\n",
        "labels = gmm.predict(X)\n",
        "plt.scatter(X[:, 0], X[:, 1], c=labels, s=40, cmap='viridis')"
      ],
      "execution_count": null,
      "outputs": []
    },
    {
      "cell_type": "code",
      "metadata": {
        "id": "uZfvBkoUcytP"
      },
      "source": [
        "probs = gmm.predict_proba(X)\n",
        "print(probs[:5].round(3))"
      ],
      "execution_count": null,
      "outputs": []
    },
    {
      "cell_type": "markdown",
      "metadata": {
        "id": "2PMCtkJ2cytP"
      },
      "source": [
        "The first five elements which measures the probability that any point belongs to the given cluster."
      ]
    },
    {
      "cell_type": "code",
      "metadata": {
        "id": "ikvK4Ds_cytQ"
      },
      "source": [
        "size = 50 * probs.max(1) ** 2  \n",
        "plt.scatter(X[:, 0], X[:, 1], c=labels, cmap='viridis', s=size);"
      ],
      "execution_count": null,
      "outputs": []
    },
    {
      "cell_type": "markdown",
      "metadata": {
        "id": "41PJaybncytQ"
      },
      "source": [
        "Results of GMM reflecting clustering probabilities."
      ]
    },
    {
      "cell_type": "code",
      "metadata": {
        "id": "qDV_bwqZcytR"
      },
      "source": [
        "from matplotlib.patches import Ellipse\n",
        "\n",
        "def draw_ellipse(position, covariance, ax=None, **kwargs):\n",
        "    \"\"\"Draw an ellipse with a given position and covariance\"\"\"\n",
        "    ax = ax or plt.gca()\n",
        "    \n",
        "    # Convert covariance to principal axes\n",
        "    if covariance.shape == (2, 2):\n",
        "        U, s, Vt = np.linalg.svd(covariance)\n",
        "        angle = np.degrees(np.arctan2(U[1, 0], U[0, 0]))\n",
        "        width, height = 2 * np.sqrt(s)\n",
        "    else:\n",
        "        angle = 0\n",
        "        width, height = 2 * np.sqrt(covariance)\n",
        "    \n",
        "    # Draw the Ellipse\n",
        "    for nsig in range(1, 4):\n",
        "        ax.add_patch(Ellipse(position, nsig * width, nsig * height,\n",
        "                             angle, **kwargs))\n",
        "        \n",
        "def plot_gmm(gmm, X, label=True, ax=None):\n",
        "    ax = ax or plt.gca()\n",
        "    labels = gmm.fit(X).predict(X)\n",
        "    if label:\n",
        "        ax.scatter(X[:, 0], X[:, 1], c=labels, s=40, cmap='viridis', zorder=2)\n",
        "    else:\n",
        "        ax.scatter(X[:, 0], X[:, 1], s=40, zorder=2)\n",
        "    ax.axis('equal')\n",
        "    \n",
        "    w_factor = 0.2 / gmm.weights_.max()\n",
        "    for pos, covar, w in zip(gmm.means_, gmm.covariances_, gmm.weights_):\n",
        "        draw_ellipse(pos, covar, alpha=w * w_factor)"
      ],
      "execution_count": null,
      "outputs": []
    },
    {
      "cell_type": "code",
      "metadata": {
        "id": "oGH3RS3xcytR"
      },
      "source": [
        "gmm = GMM(n_components=4, random_state=42)\n",
        "plot_gmm(gmm, X)"
      ],
      "execution_count": null,
      "outputs": []
    },
    {
      "cell_type": "code",
      "metadata": {
        "id": "JKaJFGpmcytS"
      },
      "source": [
        "gmm = GMM(n_components=4, covariance_type='full', random_state=42)\n",
        "plot_gmm(gmm, X_stretched)"
      ],
      "execution_count": null,
      "outputs": []
    },
    {
      "cell_type": "markdown",
      "metadata": {
        "id": "-90grDW7cytS"
      },
      "source": [
        "### GMM as Density Estimation"
      ]
    },
    {
      "cell_type": "code",
      "metadata": {
        "id": "PTrm1GtQcytT"
      },
      "source": [
        "from sklearn.datasets import make_moons\n",
        "Xmoon, ymoon = make_moons(200, noise=.05, random_state=0)\n",
        "plt.scatter(Xmoon[:, 0], Xmoon[:, 1]);"
      ],
      "execution_count": null,
      "outputs": []
    },
    {
      "cell_type": "code",
      "metadata": {
        "id": "UAP7cxyycytT"
      },
      "source": [
        "gmm2 = GMM(n_components=2, covariance_type='full', random_state=0)\n",
        "plot_gmm(gmm2, Xmoon)"
      ],
      "execution_count": null,
      "outputs": []
    },
    {
      "cell_type": "code",
      "metadata": {
        "id": "pdPTteD3-4wR"
      },
      "source": [
        "Xnew = gmm2.sample(400)\n",
        "plt.scatter(Xnew[0][:, 0], Xnew[0][:, 1]);"
      ],
      "execution_count": null,
      "outputs": []
    },
    {
      "cell_type": "code",
      "metadata": {
        "id": "Xv6Mvgk9cytT"
      },
      "source": [
        "gmm16 = GMM(n_components=16, covariance_type='full', random_state=0)\n",
        "plot_gmm(gmm16, Xmoon, label=False)"
      ],
      "execution_count": null,
      "outputs": []
    },
    {
      "cell_type": "code",
      "metadata": {
        "id": "Ok0Z_ZWWcytU"
      },
      "source": [
        "Xnew = gmm16.sample(400)\n",
        "plt.scatter(Xnew[0][:, 0], Xnew[0][:, 1]);"
      ],
      "execution_count": null,
      "outputs": []
    },
    {
      "cell_type": "markdown",
      "metadata": {
        "id": "2FUvZmnCcytU"
      },
      "source": [
        "Generated data from trained GMM."
      ]
    },
    {
      "cell_type": "code",
      "metadata": {
        "id": "JPDQQAu4cytU"
      },
      "source": [
        "n_components = np.arange(1, 21)\n",
        "models = [GMM(n, covariance_type='full', random_state=0).fit(Xmoon)\n",
        "          for n in n_components]\n",
        "\n",
        "plt.plot(n_components, [m.bic(Xmoon) for m in models], label='BIC')\n",
        "plt.plot(n_components, [m.aic(Xmoon) for m in models], label='AIC')\n",
        "plt.legend(loc='best')\n",
        "plt.xlabel('n_components');"
      ],
      "execution_count": null,
      "outputs": []
    },
    {
      "cell_type": "code",
      "metadata": {
        "id": "7seKyavGcytV"
      },
      "source": [
        "gmm9 = GMM(n_components=9, covariance_type='full', random_state=0)\n",
        "plot_gmm(gmm9, Xmoon, label=False)"
      ],
      "execution_count": null,
      "outputs": []
    },
    {
      "cell_type": "code",
      "metadata": {
        "id": "IIiaZNyO_XrS"
      },
      "source": [
        "Xnew = gmm9.sample(400)\n",
        "plt.scatter(Xnew[0][:, 0], Xnew[0][:, 1]);"
      ],
      "execution_count": null,
      "outputs": []
    },
    {
      "cell_type": "markdown",
      "metadata": {
        "id": "7Q0sDfD2cytV"
      },
      "source": [
        "#### References\n",
        "https://jakevdp.github.io/PythonDataScienceHandbook/05.12-gaussian-mixtures.html"
      ]
    }
  ]
}