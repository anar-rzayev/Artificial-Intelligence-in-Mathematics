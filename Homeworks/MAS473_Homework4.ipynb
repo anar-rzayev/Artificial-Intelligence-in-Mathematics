{
  "nbformat": 4,
  "nbformat_minor": 0,
  "metadata": {
    "colab": {
      "name": "MAS473_Homework4.ipynb",
      "provenance": []
    },
    "kernelspec": {
      "name": "python3",
      "display_name": "Python 3"
    },
    "language_info": {
      "name": "python"
    }
  },
  "cells": [
    {
      "cell_type": "code",
      "metadata": {
        "colab": {
          "base_uri": "https://localhost:8080/",
          "height": 303
        },
        "id": "WnYIEtawHjaa",
        "outputId": "b79b1888-a48a-4e80-c73d-e7670a4a9d07"
      },
      "source": [
        "# Problem 1(b)\n",
        "import numpy as np\n",
        "\n",
        "# calculate the average of f(X_i) when we use the proposal distribution q\n",
        "initial_distribution = np.array([[1, 0, 0, 0]], dtype=np.float64)\n",
        "exact_expectation = 51/12\n",
        "state_expectation_init = np.sum((np.square(np.array([[1, 2, 3, 4]], dtype=np.float64)) - 3) * initial_distribution)\n",
        "\n",
        "transition_matrix_q = np.array([[3/8, 1/4, 0, 3/8], \n",
        "                              [1/2, 0, 1/2, 0],\n",
        "                              [0, 1/3, 1/6, 1/2],\n",
        "                              [1/2, 0, 1/2, 0]], dtype=np.float64)\n",
        "\n",
        "markov_chain_distribution_q = []\n",
        "markov_chain_distribution_q.append(initial_distribution)\n",
        "\n",
        "state_expectation_each_q = []\n",
        "state_expectation_each_q.append(state_expectation_init)\n",
        "average_expectation_q = []\n",
        "\n",
        "before_state_distribution_q = initial_distribution\n",
        "\n",
        "for i in range(1, 1001):\n",
        "  current_state_distribution_q = before_state_distribution_q @ transition_matrix_q\n",
        "  markov_chain_distribution_q.append(current_state_distribution_q)\n",
        "  before_state_distribution_q= current_state_distribution_q\n",
        "\n",
        "  current_state_expectation_q = np.sum((np.square(np.array([[1, 2, 3, 4]], dtype=np.float64)) - 3) * current_state_distribution_q)\n",
        "  state_expectation_each_q.append(current_state_expectation_q)\n",
        "  expect_mean_q = np.mean(np.array(state_expectation_each_q))\n",
        "  average_expectation_q.append(expect_mean_q)\n",
        "\n",
        "difference_q = np.abs(np.array(average_expectation_q) - 51/12)\n",
        "\n",
        "transition_matrix_qt = np.array([[1/2, 1/6, 0, 1/3], \n",
        "                              [1/3, 1/6, 1/2, 0],\n",
        "                              [0, 1/3, 1/3, 1/3],\n",
        "                              [4/9, 0, 1/3, 2/9]], dtype=np.float64)\n",
        "\n",
        "markov_chain_distribution_qt = []\n",
        "markov_chain_distribution_qt.append(initial_distribution)\n",
        "\n",
        "state_expectation_each_qt = []\n",
        "state_expectation_each_qt.append(state_expectation_init)\n",
        "average_expectation_qt = []\n",
        "\n",
        "before_state_distribution_qt = initial_distribution\n",
        "\n",
        "for i in range(1, 1001):\n",
        "  current_state_distribution_qt = before_state_distribution_qt @ transition_matrix_qt\n",
        "  markov_chain_distribution_qt.append(current_state_distribution_qt)\n",
        "  before_state_distribution_qt= current_state_distribution_qt\n",
        "\n",
        "  current_state_expectation_qt = np.sum((np.square(np.array([[1, 2, 3, 4]], dtype=np.float64)) - 3) * current_state_distribution_qt)\n",
        "  state_expectation_each_qt.append(current_state_expectation_qt)\n",
        "  expect_mean_qt = np.mean(np.array(state_expectation_each_qt))\n",
        "  average_expectation_qt.append(expect_mean_qt)\n",
        "\n",
        "difference_qt = np.abs(np.array(average_expectation_qt) - 51/12)\n",
        "\n",
        "\n",
        "print(markov_chain_distribution_q[1000], markov_chain_distribution_qt[1000])\n",
        "\n",
        "import matplotlib.pyplot as plt\n",
        "plt.plot(difference_q)\n",
        "plt.plot(difference_qt)\n"
      ],
      "execution_count": 1,
      "outputs": [
        {
          "output_type": "stream",
          "name": "stdout",
          "text": [
            "[[0.33333333 0.16666667 0.25       0.25      ]] [[0.33333333 0.16666667 0.25       0.25      ]]\n"
          ]
        },
        {
          "output_type": "execute_result",
          "data": {
            "text/plain": [
              "[<matplotlib.lines.Line2D at 0x7ff16e0c4050>]"
            ]
          },
          "metadata": {},
          "execution_count": 1
        },
        {
          "output_type": "display_data",
          "data": {
            "image/png": "[encoded data removed]",
            "text/plain": [
              "<Figure size 432x288 with 1 Axes>"
            ]
          },
          "metadata": {
            "needs_background": "light"
          }
        }
      ]
    },
    {
      "cell_type": "code",
      "metadata": {
        "colab": {
          "base_uri": "https://localhost:8080/"
        },
        "id": "nRkMGQAyIDYg",
        "outputId": "cff20e54-3cd7-428a-b42c-fbe1277a0aa1"
      },
      "source": [
        "print(difference_q < difference_qt)\n",
        "print(difference_q)\n",
        "print(difference_qt)"
      ],
      "execution_count": null,
      "outputs": [
        {
          "output_type": "stream",
          "name": "stdout",
          "text": [
            "[ True  True  True  True  True  True  True  True  True  True  True  True\n",
            "  True  True  True  True  True  True  True  True  True  True  True  True\n",
            "  True  True  True  True  True  True  True  True  True  True  True  True\n",
            "  True  True  True  True  True  True  True  True  True  True  True  True\n",
            "  True  True  True  True  True  True  True  True  True  True  True  True\n",
            "  True  True  True  True  True  True  True  True  True  True  True  True\n",
            "  True  True  True  True  True  True  True  True  True  True  True  True\n",
            "  True  True  True  True  True  True  True  True  True  True  True  True\n",
            "  True  True  True  True  True  True  True  True  True  True  True  True\n",
            "  True  True  True  True  True  True  True  True  True  True  True  True\n",
            "  True  True  True  True  True  True  True  True  True  True  True  True\n",
            "  True  True  True  True  True  True  True  True  True  True  True  True\n",
            "  True  True  True  True  True  True  True  True  True  True  True  True\n",
            "  True  True  True  True  True  True  True  True  True  True  True  True\n",
            "  True  True  True  True  True  True  True  True  True  True  True  True\n",
            "  True  True  True  True  True  True  True  True  True  True  True  True\n",
            "  True  True  True  True  True  True  True  True  True  True  True  True\n",
            "  True  True  True  True  True  True  True  True  True  True  True  True\n",
            "  True  True  True  True  True  True  True  True  True  True  True  True\n",
            "  True  True  True  True  True  True  True  True  True  True  True  True\n",
            "  True  True  True  True  True  True  True  True  True  True  True  True\n",
            "  True  True  True  True  True  True  True  True  True  True  True  True\n",
            "  True  True  True  True  True  True  True  True  True  True  True  True\n",
            "  True  True  True  True  True  True  True  True  True  True  True  True\n",
            "  True  True  True  True  True  True  True  True  True  True  True  True\n",
            "  True  True  True  True  True  True  True  True  True  True  True  True\n",
            "  True  True  True  True  True  True  True  True  True  True  True  True\n",
            "  True  True  True  True  True  True  True  True  True  True  True  True\n",
            "  True  True  True  True  True  True  True  True  True  True  True  True\n",
            "  True  True  True  True  True  True  True  True  True  True  True  True\n",
            "  True  True  True  True  True  True  True  True  True  True  True  True\n",
            "  True  True  True  True  True  True  True  True  True  True  True  True\n",
            "  True  True  True  True  True  True  True  True  True  True  True  True\n",
            "  True  True  True  True  True  True  True  True  True  True  True  True\n",
            "  True  True  True  True  True  True  True  True  True  True  True  True\n",
            "  True  True  True  True  True  True  True  True  True  True  True  True\n",
            "  True  True  True  True  True  True  True  True  True  True  True  True\n",
            "  True  True  True  True  True  True  True  True  True  True  True  True\n",
            "  True  True  True  True  True  True  True  True  True  True  True  True\n",
            "  True  True  True  True  True  True  True  True  True  True  True  True\n",
            "  True  True  True  True  True  True  True  True  True  True  True  True\n",
            "  True  True  True  True  True  True  True  True  True  True  True  True\n",
            "  True  True  True  True  True  True  True  True  True  True  True  True\n",
            "  True  True  True  True  True  True  True  True  True  True  True  True\n",
            "  True  True  True  True  True  True  True  True  True  True  True  True\n",
            "  True  True  True  True  True  True  True  True  True  True  True  True\n",
            "  True  True  True  True  True  True  True  True  True  True  True  True\n",
            "  True  True  True  True  True  True  True  True  True  True  True  True\n",
            "  True  True  True  True  True  True  True  True  True  True  True  True\n",
            "  True  True  True  True  True  True  True  True  True  True  True  True\n",
            "  True  True  True  True  True  True  True  True  True  True  True  True\n",
            "  True  True  True  True  True  True  True  True  True  True  True  True\n",
            "  True  True  True  True  True  True  True  True  True  True  True  True\n",
            "  True  True  True  True  True  True  True  True  True  True  True  True\n",
            "  True  True  True  True  True  True  True  True  True  True  True  True\n",
            "  True  True  True  True  True  True  True  True  True  True  True  True\n",
            "  True  True  True  True  True  True  True  True  True  True  True  True\n",
            "  True  True  True  True  True  True  True  True  True  True  True  True\n",
            "  True  True  True  True  True  True  True  True  True  True  True  True\n",
            "  True  True  True  True  True  True  True  True  True  True  True  True\n",
            "  True  True  True  True  True  True  True  True  True  True  True  True\n",
            "  True  True  True  True  True  True  True  True  True  True  True  True\n",
            "  True  True  True  True  True  True  True  True  True  True  True  True\n",
            "  True  True  True  True  True  True  True  True  True  True  True  True\n",
            "  True  True  True  True  True  True  True  True  True  True  True  True\n",
            "  True  True  True  True  True  True  True  True  True  True  True  True\n",
            "  True  True  True  True  True  True  True  True  True  True  True  True\n",
            "  True  True  True  True  True  True  True  True  True  True  True  True\n",
            "  True  True  True  True  True  True  True  True  True  True  True  True\n",
            "  True  True  True  True  True  True  True  True  True  True  True  True\n",
            "  True  True  True  True  True  True  True  True  True  True  True  True\n",
            "  True  True  True  True  True  True  True  True  True  True  True  True\n",
            "  True  True  True  True  True  True  True  True  True  True  True  True\n",
            "  True  True  True  True  True  True  True  True  True  True  True  True\n",
            "  True  True  True  True  True  True  True  True  True  True  True  True\n",
            "  True  True  True  True  True  True  True  True  True  True  True  True\n",
            "  True  True  True  True  True  True  True  True  True  True  True  True\n",
            "  True  True  True  True  True  True  True  True  True  True  True  True\n",
            "  True  True  True  True  True  True  True  True  True  True  True  True\n",
            "  True  True  True  True  True  True  True  True  True  True  True  True\n",
            "  True  True  True  True  True  True  True  True  True  True  True  True\n",
            "  True  True  True  True  True  True  True  True  True  True  True  True\n",
            "  True  True  True  True  True  True  True  True  True  True  True  True\n",
            "  True  True  True  True]\n",
            "[3.0625     2.49479167 1.70882161 1.4831977  1.1691011  1.04565041\n",
            " 0.88702058 0.80689793 0.7139497  0.65729523 0.59692626 0.55483004\n",
            " 0.51257405 0.48021541 0.44894438 0.42341163 0.39927679 0.37869119\n",
            " 0.35945511 0.34255067 0.32683012 0.31272632 0.29962075 0.28768941\n",
            " 0.27658638 0.26636956 0.25683701 0.24799438 0.23971802 0.23199226\n",
            " 0.22473743 0.21793084 0.2115185  0.20547699 0.19976794 0.19436978\n",
            " 0.18925409 0.18440192 0.17979151 0.17540662 0.17123008 0.16724812\n",
            " 0.16344693 0.15981485 0.15634056 0.1530142  0.14982638 0.14676872\n",
            " 0.14383333 0.14101308 0.13830128 0.13569183 0.13317901 0.13075758\n",
            " 0.12842262 0.12616959 0.12399425 0.12189266 0.11986111 0.11789618\n",
            " 0.11599462 0.11415344 0.11236979 0.11064103 0.10896465 0.10733831\n",
            " 0.1057598  0.10422705 0.1027381  0.10129108 0.09988426 0.09851598\n",
            " 0.09718468 0.09588889 0.09462719 0.09339827 0.09220085 0.09103376\n",
            " 0.08989583 0.08878601 0.08770325 0.08664659 0.08561508 0.08460784\n",
            " 0.08362403 0.08266284 0.08172348 0.08080524 0.07990741 0.0790293\n",
            " 0.07817029 0.07732975 0.07650709 0.07570175 0.07491319 0.07414089\n",
            " 0.07338435 0.0726431  0.07191667 0.07120462 0.07050654 0.06982201\n",
            " 0.06915064 0.06849206 0.06784591 0.06721184 0.06658951 0.06597859\n",
            " 0.06537879 0.06478979 0.06421131 0.06364307 0.0630848  0.06253623\n",
            " 0.06199713 0.06146724 0.06094633 0.06043417 0.05993056 0.05943526\n",
            " 0.05894809 0.05846883 0.05799731 0.05753333 0.05707672 0.0566273\n",
            " 0.0561849  0.05574935 0.05532051 0.05489822 0.05448232 0.05407268\n",
            " 0.05366915 0.0532716  0.0528799  0.05249392 0.05211353 0.05173861\n",
            " 0.05136905 0.05100473 0.05064554 0.05029138 0.04994213 0.0495977\n",
            " 0.04925799 0.0489229  0.04859234 0.04826622 0.04794444 0.04762693\n",
            " 0.0473136  0.04700436 0.04669913 0.04639785 0.04610043 0.04580679\n",
            " 0.04551688 0.04523061 0.04494792 0.04466874 0.044393   0.04412065\n",
            " 0.04385163 0.04358586 0.04332329 0.04306387 0.04280754 0.04255424\n",
            " 0.04230392 0.04205653 0.04181202 0.04157033 0.04133142 0.04109524\n",
            " 0.04086174 0.04063089 0.04040262 0.04017691 0.0399537  0.03973297\n",
            " 0.03951465 0.03929872 0.03908514 0.03887387 0.03866487 0.03845811\n",
            " 0.03825355 0.03805115 0.03785088 0.03765271 0.0374566  0.03726252\n",
            " 0.03707045 0.03688034 0.03669218 0.03650592 0.03632155 0.03613903\n",
            " 0.03595833 0.03577944 0.03560231 0.03542693 0.03525327 0.0350813\n",
            " 0.034911   0.03474235 0.03457532 0.03440989 0.03424603 0.03408373\n",
            " 0.03392296 0.03376369 0.03360592 0.03344961 0.03329475 0.03314132\n",
            " 0.0329893  0.03283866 0.03268939 0.03254148 0.03239489 0.03224963\n",
            " 0.03210565 0.03196296 0.03182153 0.03168135 0.0315424  0.03140466\n",
            " 0.03126812 0.03113276 0.03099856 0.03086552 0.03073362 0.03060284\n",
            " 0.03047316 0.03034459 0.03021709 0.03009066 0.02996528 0.02984094\n",
            " 0.02971763 0.02959534 0.02947404 0.02935374 0.02923442 0.02911606\n",
            " 0.02899866 0.0288822  0.02876667 0.02865206 0.02853836 0.02842556\n",
            " 0.02831365 0.02820261 0.02809245 0.02798314 0.02787468 0.02776705\n",
            " 0.02766026 0.02755428 0.02744911 0.02734474 0.02724116 0.02713836\n",
            " 0.02703634 0.02693508 0.02683458 0.02673482 0.0266358  0.02653752\n",
            " 0.02643995 0.0263431  0.02624696 0.02615152 0.02605676 0.0259627\n",
            " 0.0258693  0.02577658 0.02568452 0.02559312 0.02550236 0.02541225\n",
            " 0.02532277 0.02523392 0.02514569 0.02505807 0.02497106 0.02488466\n",
            " 0.02479885 0.02471363 0.024629   0.02454494 0.02446145 0.02437853\n",
            " 0.02429617 0.02421437 0.02413311 0.0240524  0.02397222 0.02389258\n",
            " 0.02381347 0.02373487 0.0236568  0.02357923 0.02350218 0.02342562\n",
            " 0.02334957 0.023274   0.02319892 0.02312433 0.02305021 0.02297657\n",
            " 0.0229034  0.02283069 0.02275844 0.02268665 0.0226153  0.02254441\n",
            " 0.02247396 0.02240395 0.02233437 0.02226522 0.0221965  0.02212821\n",
            " 0.02206033 0.02199286 0.02192581 0.02185917 0.02179293 0.02172709\n",
            " 0.02166165 0.0215966  0.02153194 0.02146766 0.02140377 0.02134026\n",
            " 0.02127712 0.02121436 0.02115196 0.02108993 0.02102827 0.02096696\n",
            " 0.02090601 0.02084541 0.02078516 0.02072526 0.02066571 0.02060649\n",
            " 0.02054762 0.02048908 0.02043087 0.02037299 0.02031544 0.02025822\n",
            " 0.02020131 0.02014472 0.02008845 0.0200325  0.01997685 0.01992151\n",
            " 0.01986648 0.01981175 0.01975733 0.0197032  0.01964936 0.01959582\n",
            " 0.01954257 0.01948961 0.01943694 0.01938455 0.01933244 0.01928061\n",
            " 0.01922906 0.01917778 0.01912677 0.01907604 0.01902557 0.01897537\n",
            " 0.01892544 0.01887577 0.01882635 0.0187772  0.0187283  0.01867965\n",
            " 0.01863126 0.01858312 0.01853522 0.01848757 0.01844017 0.01839301\n",
            " 0.01834609 0.01829941 0.01825296 0.01820675 0.01816077 0.01811503\n",
            " 0.01806951 0.01802423 0.01797917 0.01793433 0.01788972 0.01784533\n",
            " 0.01780116 0.0177572  0.01771346 0.01766994 0.01762663 0.01758354\n",
            " 0.01754065 0.01749797 0.0174555  0.01741324 0.01737118 0.01732932\n",
            " 0.01728766 0.0172462  0.01720494 0.01716388 0.01712302 0.01708234\n",
            " 0.01704186 0.01700158 0.01696148 0.01692157 0.01688185 0.01684231\n",
            " 0.01680296 0.01676379 0.01672481 0.016686   0.01664738 0.01660893\n",
            " 0.01657066 0.01653257 0.01649465 0.0164569  0.01641933 0.01638193\n",
            " 0.0163447  0.01630763 0.01627074 0.01623401 0.01619745 0.01616105\n",
            " 0.01612481 0.01608874 0.01605283 0.01601707 0.01598148 0.01594605\n",
            " 0.01591077 0.01587564 0.01584068 0.01580586 0.0157712  0.01573669\n",
            " 0.01570233 0.01566812 0.01563406 0.01560014 0.01556638 0.01553276\n",
            " 0.01549928 0.01546595 0.01543276 0.01539971 0.01536681 0.01533404\n",
            " 0.01530142 0.01526893 0.01523658 0.01520437 0.01517229 0.01514035\n",
            " 0.01510854 0.01507687 0.01504533 0.01501392 0.01498264 0.01495149\n",
            " 0.01492047 0.01488958 0.01485882 0.01482818 0.01479767 0.01476728\n",
            " 0.01473702 0.01470688 0.01467687 0.01464698 0.01461721 0.01458756\n",
            " 0.01455803 0.01452862 0.01449933 0.01447015 0.0144411  0.01441216\n",
            " 0.01438333 0.01435462 0.01432603 0.01429755 0.01426918 0.01424092\n",
            " 0.01421278 0.01418475 0.01415682 0.01412901 0.01410131 0.01407371\n",
            " 0.01404622 0.01401884 0.01399157 0.0139644  0.01393734 0.01391038\n",
            " 0.01388353 0.01385678 0.01383013 0.01380358 0.01377714 0.0137508\n",
            " 0.01372455 0.01369841 0.01367237 0.01364643 0.01362058 0.01359483\n",
            " 0.01356918 0.01354363 0.01351817 0.01349281 0.01346754 0.01344237\n",
            " 0.01341729 0.0133923  0.01336741 0.01334261 0.0133179  0.01329328\n",
            " 0.01326876 0.01324432 0.01321998 0.01319572 0.01317155 0.01314747\n",
            " 0.01312348 0.01309957 0.01307576 0.01305203 0.01302838 0.01300482\n",
            " 0.01298135 0.01295796 0.01293465 0.01291143 0.01288829 0.01286524\n",
            " 0.01284226 0.01281937 0.01279656 0.01277383 0.01275118 0.01272861\n",
            " 0.01270612 0.01268372 0.01266138 0.01263913 0.01261696 0.01259486\n",
            " 0.01257284 0.0125509  0.01252904 0.01250725 0.01248553 0.01246389\n",
            " 0.01244233 0.01242084 0.01239943 0.01237808 0.01235682 0.01233562\n",
            " 0.0123145  0.01229345 0.01227247 0.01225156 0.01223073 0.01220996\n",
            " 0.01218927 0.01216864 0.01214809 0.0121276  0.01210718 0.01208683\n",
            " 0.01206655 0.01204634 0.0120262  0.01200612 0.01198611 0.01196617\n",
            " 0.01194629 0.01192648 0.01190673 0.01188705 0.01186744 0.01184789\n",
            " 0.0118284  0.01180898 0.01178962 0.01177032 0.01175109 0.01173192\n",
            " 0.01171281 0.01169377 0.01167478 0.01165586 0.011637   0.0116182\n",
            " 0.01159946 0.01158078 0.01156217 0.01154361 0.01152511 0.01150667\n",
            " 0.01148829 0.01146996 0.0114517  0.01143349 0.01141534 0.01139725\n",
            " 0.01137922 0.01136124 0.01134332 0.01132546 0.01130765 0.0112899\n",
            " 0.0112722  0.01125456 0.01123698 0.01121945 0.01120197 0.01118455\n",
            " 0.01116718 0.01114987 0.01113261 0.0111154  0.01109825 0.01108115\n",
            " 0.0110641  0.01104711 0.01103016 0.01101327 0.01099643 0.01097964\n",
            " 0.01096291 0.01094622 0.01092958 0.010913   0.01089646 0.01087998\n",
            " 0.01086354 0.01084716 0.01083082 0.01081454 0.0107983  0.01078211\n",
            " 0.01076597 0.01074988 0.01073383 0.01071783 0.01070188 0.01068598\n",
            " 0.01067013 0.01065432 0.01063856 0.01062285 0.01060718 0.01059156\n",
            " 0.01057598 0.01056045 0.01054497 0.01052953 0.01051413 0.01049878\n",
            " 0.01048348 0.01046822 0.010453   0.01043783 0.01042271 0.01040762\n",
            " 0.01039258 0.01037759 0.01036263 0.01034772 0.01033285 0.01031803\n",
            " 0.01030325 0.01028851 0.01027381 0.01025915 0.01024454 0.01022997\n",
            " 0.01021544 0.01020095 0.0101865  0.01017209 0.01015772 0.01014339\n",
            " 0.01012911 0.01011486 0.01010066 0.01008649 0.01007236 0.01005828\n",
            " 0.01004423 0.01003022 0.01001625 0.01000232 0.00998843 0.00997457\n",
            " 0.00996076 0.00994698 0.00993324 0.00991954 0.00990588 0.00989225\n",
            " 0.00987866 0.00986511 0.0098516  0.00983812 0.00982468 0.00981128\n",
            " 0.00979791 0.00978458 0.00977129 0.00975803 0.00974481 0.00973162\n",
            " 0.00971847 0.00970535 0.00969227 0.00967923 0.00966622 0.00965324\n",
            " 0.0096403  0.0096274  0.00961453 0.00960169 0.00958889 0.00957612\n",
            " 0.00956339 0.00955069 0.00953802 0.00952539 0.00951279 0.00950022\n",
            " 0.00948769 0.00947519 0.00946272 0.00945028 0.00943788 0.00942551\n",
            " 0.00941318 0.00940087 0.0093886  0.00937636 0.00936415 0.00935197\n",
            " 0.00933983 0.00932771 0.00931563 0.00930358 0.00929156 0.00927957\n",
            " 0.00926761 0.00925568 0.00924379 0.00923192 0.00922009 0.00920828\n",
            " 0.0091965  0.00918476 0.00917304 0.00916136 0.0091497  0.00913808\n",
            " 0.00912648 0.00911491 0.00910338 0.00909187 0.00908039 0.00906894\n",
            " 0.00905751 0.00904612 0.00903476 0.00902342 0.00901211 0.00900083\n",
            " 0.00898958 0.00897836 0.00896717 0.008956   0.00894486 0.00893375\n",
            " 0.00892266 0.00891161 0.00890058 0.00888958 0.0088786  0.00886765\n",
            " 0.00885673 0.00884584 0.00883497 0.00882413 0.00881332 0.00880253\n",
            " 0.00879177 0.00878103 0.00877033 0.00875964 0.00874899 0.00873836\n",
            " 0.00872775 0.00871717 0.00870662 0.00869609 0.00868559 0.00867511\n",
            " 0.00866466 0.00865423 0.00864383 0.00863345 0.0086231  0.00861277\n",
            " 0.00860247 0.00859219 0.00858194 0.00857171 0.00856151 0.00855133\n",
            " 0.00854117 0.00853104 0.00852093 0.00851085 0.00850079 0.00849075\n",
            " 0.00848074 0.00847075 0.00846078 0.00845084 0.00844092 0.00843103\n",
            " 0.00842116 0.00841131 0.00840148 0.00839168 0.0083819  0.00837214\n",
            " 0.0083624  0.00835269 0.008343   0.00833333 0.00832369 0.00831407\n",
            " 0.00830446 0.00829489 0.00828533 0.0082758  0.00826628 0.00825679\n",
            " 0.00824732 0.00823788 0.00822845 0.00821905 0.00820967 0.0082003\n",
            " 0.00819096 0.00818165 0.00817235 0.00816307 0.00815382 0.00814458\n",
            " 0.00813537 0.00812618 0.00811701 0.00810785 0.00809872 0.00808961\n",
            " 0.00808052 0.00807146 0.00806241 0.00805338 0.00804437 0.00803538\n",
            " 0.00802641 0.00801747 0.00800854 0.00799963 0.00799074 0.00798187\n",
            " 0.00797302 0.00796419 0.00795538 0.00794659 0.00793782 0.00792907\n",
            " 0.00792034 0.00791162 0.00790293 0.00789426 0.0078856  0.00787696\n",
            " 0.00786834 0.00785974 0.00785116 0.0078426  0.00783406 0.00782554\n",
            " 0.00781703 0.00780854 0.00780007 0.00779162 0.00778319 0.00777477\n",
            " 0.00776638 0.007758   0.00774964 0.0077413  0.00773297 0.00772467\n",
            " 0.00771638 0.00770811 0.00769986 0.00769162 0.0076834  0.0076752\n",
            " 0.00766702 0.00765886 0.00765071 0.00764258 0.00763447 0.00762637\n",
            " 0.00761829 0.00761023 0.00760218 0.00759416 0.00758615 0.00757815\n",
            " 0.00757018 0.00756222 0.00755427 0.00754634 0.00753843 0.00753054\n",
            " 0.00752266 0.0075148  0.00750696 0.00749913 0.00749132 0.00748352\n",
            " 0.00747574 0.00746798 0.00746024 0.0074525  0.00744479 0.00743709\n",
            " 0.00742941 0.00742174 0.00741409 0.00740645 0.00739883 0.00739123\n",
            " 0.00738364 0.00737607 0.00736851 0.00736097 0.00735344 0.00734593\n",
            " 0.00733844 0.00733095 0.00732349 0.00731604 0.0073086  0.00730118\n",
            " 0.00729378 0.00728639 0.00727901 0.00727165 0.00726431 0.00725698\n",
            " 0.00724966 0.00724236 0.00723508 0.00722781 0.00722055 0.00721331\n",
            " 0.00720608 0.00719887 0.00719167 0.00718448]\n",
            "[3.5        2.58333333 1.96875    1.60277778 1.34098508 1.15342691\n",
            " 1.01025041 0.89864828 0.80897604 0.73554469 0.67428684 0.62243887\n",
            " 0.57798634 0.53945771 0.50574307 0.4759942  0.44955038 0.42588997\n",
            " 0.40459553 0.38532911 0.36781416 0.35182225 0.33716299 0.32367647\n",
            " 0.31122738 0.29970044 0.28899685 0.27903144 0.26973039 0.26102941\n",
            " 0.25287224 0.24520945 0.2379974  0.23119748 0.22477533 0.21870032\n",
            " 0.21294505 0.20748492 0.20229779 0.1973637  0.19266457 0.18818399\n",
            " 0.18390709 0.17982026 0.17591113 0.17216834 0.1685815  0.16514106\n",
            " 0.16183824 0.15866494 0.15561369 0.15267758 0.14985022 0.14712567\n",
            " 0.14449842 0.14196336 0.13951572 0.13715105 0.1348652  0.13265429\n",
            " 0.13051471 0.12844304 0.12643612 0.12449095 0.12260472 0.1207748\n",
            " 0.1189987  0.11727408 0.11559874 0.11397059 0.11238766 0.11084811\n",
            " 0.10935016 0.10789216 0.10647252 0.10508976 0.10374246 0.10242926\n",
            " 0.1011489  0.09990015 0.09868185 0.09749291 0.09633228 0.09519896\n",
            " 0.094092   0.09301048 0.09195354 0.09092036 0.08991013 0.08892211\n",
            " 0.08795556 0.0870098  0.08608417 0.08517802 0.08429075 0.08342177\n",
            " 0.08257053 0.08173648 0.08091912 0.08011794 0.07933247 0.07856225\n",
            " 0.07780684 0.07706583 0.07633879 0.07562534 0.07492511 0.07423772\n",
            " 0.07356283 0.07290011 0.07224921 0.07160984 0.07098168 0.07036445\n",
            " 0.06975786 0.06916164 0.06857552 0.06799926 0.0674326  0.0668753\n",
            " 0.06632715 0.0657879  0.06525735 0.06473529 0.06422152 0.06371584\n",
            " 0.06321806 0.062728   0.06224548 0.06177032 0.06130236 0.06084144\n",
            " 0.0603874  0.05994009 0.05949935 0.05906505 0.05863704 0.05821519\n",
            " 0.05779937 0.05738945 0.05698529 0.0565868  0.05619383 0.05580629\n",
            " 0.05542405 0.05504702 0.05467508 0.05430813 0.05394608 0.05358882\n",
            " 0.05323626 0.05288831 0.05254488 0.05220588 0.05187123 0.05154084\n",
            " 0.05121463 0.05089253 0.05057445 0.05026032 0.04995007 0.04964363\n",
            " 0.04934093 0.04904189 0.04874646 0.04845456 0.04816614 0.04788113\n",
            " 0.04759948 0.04732112 0.047046   0.04677406 0.04650524 0.0462395\n",
            " 0.04597677 0.04571702 0.04546018 0.04520621 0.04495507 0.04470669\n",
            " 0.04446105 0.0442181  0.04397778 0.04374006 0.0435049  0.04327226\n",
            " 0.04304208 0.04281435 0.04258901 0.04236603 0.04214537 0.041927\n",
            " 0.04171089 0.04149698 0.04128526 0.04107569 0.04086824 0.04066287\n",
            " 0.04045956 0.04025827 0.04005897 0.03986163 0.03966623 0.03947274\n",
            " 0.03928113 0.03909136 0.03890342 0.03871728 0.03853291 0.03835029\n",
            " 0.0381694  0.0379902  0.03781267 0.0376368  0.03746255 0.03728992\n",
            " 0.03711886 0.03694937 0.03678142 0.03661499 0.03645005 0.0362866\n",
            " 0.03612461 0.03596405 0.03580492 0.03564719 0.03549084 0.03533586\n",
            " 0.03518223 0.03502992 0.03487893 0.03472924 0.03458082 0.03443367\n",
            " 0.03428776 0.03414309 0.03399963 0.03385737 0.0337163  0.0335764\n",
            " 0.03343765 0.03330005 0.03316357 0.03302821 0.03289395 0.03276078\n",
            " 0.03262868 0.03249764 0.03236765 0.03223869 0.03211076 0.03198384\n",
            " 0.03185792 0.03173299 0.03160903 0.03148604 0.031364   0.0312429\n",
            " 0.03112274 0.03100349 0.03088516 0.03076773 0.03065118 0.03053552\n",
            " 0.03042072 0.03030679 0.0301937  0.03008146 0.02997004 0.02985945\n",
            " 0.02974968 0.0296407  0.02953252 0.02942513 0.02931852 0.02921268\n",
            " 0.0291076  0.02900327 0.02889968 0.02879684 0.02869472 0.02859333\n",
            " 0.02849265 0.02839267 0.0282934  0.02819481 0.02809692 0.02799969\n",
            " 0.02790314 0.02780726 0.02771203 0.02761745 0.02752351 0.02743021\n",
            " 0.02733754 0.02724549 0.02715407 0.02706325 0.02697304 0.02688343\n",
            " 0.02679441 0.02670598 0.02661813 0.02653086 0.02644416 0.02635802\n",
            " 0.02627244 0.02618742 0.02610294 0.02601901 0.02593561 0.02585275\n",
            " 0.02577042 0.02568861 0.02560732 0.02552654 0.02544626 0.02536649\n",
            " 0.02528722 0.02520845 0.02513016 0.02505236 0.02497504 0.02489819\n",
            " 0.02482182 0.02474591 0.02467046 0.02459548 0.02452094 0.02444686\n",
            " 0.02437323 0.02430004 0.02422728 0.02415496 0.02408307 0.02401161\n",
            " 0.02394057 0.02386995 0.02379974 0.02372995 0.02366056 0.02359158\n",
            " 0.023523   0.02345482 0.02338703 0.02331963 0.02325262 0.02318599\n",
            " 0.02311975 0.02305388 0.02298839 0.02292326 0.02285851 0.02279412\n",
            " 0.02273009 0.02266642 0.02260311 0.02254014 0.02247753 0.02241527\n",
            " 0.02235335 0.02229177 0.02223053 0.02216962 0.02210905 0.02204881\n",
            " 0.02198889 0.0219293  0.02187003 0.02181108 0.02175245 0.02169413\n",
            " 0.02163613 0.02157843 0.02152104 0.02146396 0.02140717 0.02135069\n",
            " 0.0212945  0.02123861 0.02118302 0.02112771 0.02107269 0.02101795\n",
            " 0.0209635  0.02090933 0.02085544 0.02080183 0.02074849 0.02069543\n",
            " 0.02064263 0.02059011 0.02053785 0.02048585 0.02043412 0.02038265\n",
            " 0.02033144 0.02028048 0.02022978 0.02017933 0.02012913 0.02007919\n",
            " 0.02002948 0.01998003 0.01993082 0.01988185 0.01983312 0.01978463\n",
            " 0.01973637 0.01968835 0.01964056 0.01959301 0.01954568 0.01949858\n",
            " 0.01945171 0.01940506 0.01935864 0.01931244 0.01926646 0.01922069\n",
            " 0.01917515 0.01912982 0.0190847  0.01903979 0.0189951  0.01895061\n",
            " 0.01890634 0.01886227 0.0188184  0.01877474 0.01873128 0.01868802\n",
            " 0.01864496 0.0186021  0.01855943 0.01851696 0.01847468 0.0184326\n",
            " 0.01839071 0.01834901 0.01830749 0.01826617 0.01822503 0.01818407\n",
            " 0.0181433  0.01810271 0.0180623  0.01802208 0.01798203 0.01794215\n",
            " 0.01790246 0.01786294 0.01782359 0.01778442 0.01774542 0.01770659\n",
            " 0.01766793 0.01762944 0.01759111 0.01755295 0.01751496 0.01747713\n",
            " 0.01743947 0.01740196 0.01736462 0.01732743 0.01729041 0.01725354\n",
            " 0.01721683 0.01718028 0.01714388 0.01710764 0.01707154 0.0170356\n",
            " 0.01699981 0.01696418 0.01692869 0.01689334 0.01685815 0.0168231\n",
            " 0.0167882  0.01675344 0.01671883 0.01668435 0.01665002 0.01661584\n",
            " 0.01658179 0.01654788 0.01651411 0.01648047 0.01644698 0.01641361\n",
            " 0.01638039 0.0163473  0.01631434 0.01628151 0.01624882 0.01621626\n",
            " 0.01618382 0.01615152 0.01611935 0.0160873  0.01605538 0.01602359\n",
            " 0.01599192 0.01596038 0.01592896 0.01589767 0.01586649 0.01583544\n",
            " 0.01580452 0.01577371 0.01574302 0.01571245 0.015682   0.01565167\n",
            " 0.01562145 0.01559135 0.01556137 0.0155315  0.01550175 0.01547211\n",
            " 0.01544258 0.01541317 0.01538386 0.01535467 0.01532559 0.01529662\n",
            " 0.01526776 0.01523901 0.01521036 0.01518182 0.01515339 0.01512507\n",
            " 0.01509685 0.01506874 0.01504073 0.01501282 0.01498502 0.01495732\n",
            " 0.01492973 0.01490223 0.01487484 0.01484754 0.01482035 0.01479326\n",
            " 0.01476626 0.01473937 0.01471257 0.01468587 0.01465926 0.01463275\n",
            " 0.01460634 0.01458002 0.0145538  0.01452767 0.01450163 0.01447569\n",
            " 0.01444984 0.01442409 0.01439842 0.01437285 0.01434736 0.01432197\n",
            " 0.01429666 0.01427145 0.01424632 0.01422129 0.01419634 0.01417147\n",
            " 0.0141467  0.01412201 0.01409741 0.01407289 0.01404846 0.01402411\n",
            " 0.01399985 0.01397567 0.01395157 0.01392756 0.01390363 0.01387978\n",
            " 0.01385601 0.01383233 0.01380872 0.0137852  0.01376175 0.01373839\n",
            " 0.0137151  0.0136919  0.01366877 0.01364572 0.01362275 0.01359985\n",
            " 0.01357703 0.01355429 0.01353163 0.01350903 0.01348652 0.01346408\n",
            " 0.01344171 0.01341942 0.0133972  0.01337506 0.01335299 0.01333099\n",
            " 0.01330907 0.01328721 0.01326543 0.01324372 0.01322208 0.01320051\n",
            " 0.01317901 0.01315758 0.01313622 0.01311493 0.01309371 0.01307256\n",
            " 0.01305147 0.01303045 0.0130095  0.01298862 0.01296781 0.01294706\n",
            " 0.01292638 0.01290576 0.01288521 0.01286472 0.0128443  0.01282395\n",
            " 0.01280366 0.01278343 0.01276327 0.01274317 0.01272313 0.01270316\n",
            " 0.01268325 0.0126634  0.01264361 0.01262389 0.01260422 0.01258462\n",
            " 0.01256508 0.0125456  0.01252618 0.01250682 0.01248752 0.01246828\n",
            " 0.0124491  0.01242997 0.01241091 0.0123919  0.01237295 0.01235406\n",
            " 0.01233523 0.01231646 0.01229774 0.01227908 0.01226047 0.01224192\n",
            " 0.01222343 0.012205   0.01218661 0.01216829 0.01215002 0.0121318\n",
            " 0.01211364 0.01209553 0.01207748 0.01205948 0.01204154 0.01202364\n",
            " 0.0120058  0.01198802 0.01197028 0.0119526  0.01193497 0.0119174\n",
            " 0.01189987 0.0118824  0.01186497 0.0118476  0.01183028 0.01181301\n",
            " 0.01179579 0.01177862 0.0117615  0.01174443 0.01172741 0.01171044\n",
            " 0.01169351 0.01167664 0.01165982 0.01164304 0.01162631 0.01160963\n",
            " 0.011593   0.01157641 0.01155987 0.01154338 0.01152694 0.01151054\n",
            " 0.01149419 0.01147789 0.01146163 0.01144542 0.01142925 0.01141313\n",
            " 0.01139706 0.01138103 0.01136504 0.0113491  0.01133321 0.01131736\n",
            " 0.01130155 0.01128579 0.01127007 0.0112544  0.01123877 0.01122318\n",
            " 0.01120763 0.01119213 0.01117667 0.01116126 0.01114588 0.01113055\n",
            " 0.01111526 0.01110002 0.01108481 0.01106965 0.01105452 0.01103944\n",
            " 0.0110244  0.0110094  0.01099445 0.01097953 0.01096465 0.01094981\n",
            " 0.01093502 0.01092026 0.01090554 0.01089086 0.01087623 0.01086163\n",
            " 0.01084707 0.01083255 0.01081806 0.01080362 0.01078922 0.01077485\n",
            " 0.01076052 0.01074623 0.01073198 0.01071776 0.01070359 0.01068945\n",
            " 0.01067535 0.01066128 0.01064725 0.01063326 0.01061931 0.01060539\n",
            " 0.01059151 0.01057766 0.01056385 0.01055008 0.01053634 0.01052264\n",
            " 0.01050898 0.01049535 0.01048175 0.01046819 0.01045467 0.01044118\n",
            " 0.01042772 0.0104143  0.01040091 0.01038756 0.01037425 0.01036096\n",
            " 0.01034771 0.0103345  0.01032132 0.01030817 0.01029505 0.01028197\n",
            " 0.01026892 0.01025591 0.01024293 0.01022998 0.01021706 0.01020418\n",
            " 0.01019132 0.01017851 0.01016572 0.01015296 0.01014024 0.01012755\n",
            " 0.01011489 0.01010226 0.01008967 0.0100771  0.01006457 0.01005206\n",
            " 0.01003959 0.01002715 0.01001474 0.01000236 0.00999001 0.0099777\n",
            " 0.00996541 0.00995315 0.00994092 0.00992873 0.00991656 0.00990442\n",
            " 0.00989231 0.00988023 0.00986819 0.00985617 0.00984417 0.00983221\n",
            " 0.00982028 0.00980838 0.0097965  0.00978466 0.00977284 0.00976105\n",
            " 0.00974929 0.00973756 0.00972586 0.00971418 0.00970253 0.00969091\n",
            " 0.00967932 0.00966776 0.00965622 0.00964471 0.00963323 0.00962177\n",
            " 0.00961035 0.00959895 0.00958757 0.00957623 0.00956491 0.00955361\n",
            " 0.00954235 0.00953111 0.0095199  0.00950871 0.00949755 0.00948641\n",
            " 0.00947531 0.00946422 0.00945317 0.00944214 0.00943113 0.00942015\n",
            " 0.0094092  0.00939827 0.00938737 0.00937649 0.00936564 0.00935481\n",
            " 0.00934401 0.00933323 0.00932248 0.00931175 0.00930105 0.00929037\n",
            " 0.00927972 0.00926909 0.00925848 0.0092479  0.00923734 0.00922681\n",
            " 0.0092163  0.00920582 0.00919535 0.00918492 0.0091745  0.00916411\n",
            " 0.00915375 0.0091434  0.00913308 0.00912279 0.00911251 0.00910226\n",
            " 0.00909204 0.00908183 0.00907165 0.00906149 0.00905136 0.00904124\n",
            " 0.00903115 0.00902108 0.00901104 0.00900101 0.00899101 0.00898103\n",
            " 0.00897108 0.00896114 0.00895123 0.00894134 0.00893147 0.00892162\n",
            " 0.0089118  0.00890199 0.00889221 0.00888245 0.00887271 0.00886299\n",
            " 0.0088533  0.00884362 0.00883396 0.00882433 0.00881472 0.00880513\n",
            " 0.00879556 0.00878601 0.00877648 0.00876697 0.00875748 0.00874801\n",
            " 0.00873857 0.00872914 0.00871973 0.00871035 0.00870098 0.00869163\n",
            " 0.00868231 0.008673   0.00866372 0.00865445 0.0086452  0.00863598\n",
            " 0.00862677 0.00861758 0.00860842 0.00859927 0.00859014 0.00858103\n",
            " 0.00857194 0.00856287 0.00855382 0.00854479 0.00853577 0.00852678\n",
            " 0.0085178  0.00850885 0.00849991 0.00849099 0.00848209 0.00847321\n",
            " 0.00846434 0.0084555  0.00844667 0.00843786 0.00842907 0.0084203\n",
            " 0.00841155 0.00840282 0.0083941  0.0083854  0.00837672 0.00836806\n",
            " 0.00835941 0.00835079 0.00834218 0.00833359 0.00832501 0.00831646\n",
            " 0.00830792 0.0082994  0.00829089 0.00828241 0.00827394 0.00826549\n",
            " 0.00825705 0.00824864 0.00824024 0.00823185 0.00822349 0.00821514\n",
            " 0.00820681 0.00819849 0.00819019 0.00818191 0.00817365 0.0081654\n",
            " 0.00815717 0.00814895 0.00814076 0.00813257 0.00812441 0.00811626\n",
            " 0.00810813 0.00810001 0.00809191 0.00808383]\n"
          ]
        }
      ]
    },
    {
      "cell_type": "code",
      "metadata": {
        "id": "ZJ0qiNlYJtEC"
      },
      "source": [
        "# Problem 2(b)\n",
        "import numpy as np\n",
        "\n",
        "transition_mat = np.array([[0, 5/12, 1/6, 1/4, 1/6],\n",
        "                           [7/30, 0, 23/60, 7/30, 3/20],\n",
        "                           [1/4, 1/6, 0, 5/12, 1/6],\n",
        "                           [7/30, 3/20, 7/30, 0, 23/60],\n",
        "                           [0, 0, 0, 0, 1]], dtype = np.float64)\n",
        "rew_exp = np.array([[0], [7/60], [1/8], [7/60], [0]], dtype = np.float64)\n",
        "value_ft = np.linalg.inv(np.eye(5)-0.9*transition_mat) @ rew_exp"
      ],
      "execution_count": null,
      "outputs": []
    },
    {
      "cell_type": "code",
      "metadata": {
        "colab": {
          "base_uri": "https://localhost:8080/"
        },
        "id": "oyPgGIsutRwT",
        "outputId": "8e6b010b-e1c8-4cf4-9cc9-b47a0ab50f2f"
      },
      "source": [
        "print(value_ft)"
      ],
      "execution_count": null,
      "outputs": [
        {
          "output_type": "stream",
          "name": "stdout",
          "text": [
            "[[0.24447704]\n",
            " [0.34493336]\n",
            " [0.33890058]\n",
            " [0.28574197]\n",
            " [0.        ]]\n"
          ]
        }
      ]
    },
    {
      "cell_type": "code",
      "metadata": {
        "colab": {
          "base_uri": "https://localhost:8080/"
        },
        "id": "0R24h9udtWue",
        "outputId": "556bddde-10ae-47a1-b354-673507a054a4"
      },
      "source": [
        "print(np.eye(5)-0.9*transition_mat)"
      ],
      "execution_count": null,
      "outputs": [
        {
          "output_type": "stream",
          "name": "stdout",
          "text": [
            "[[ 1.    -0.375 -0.15  -0.225 -0.15 ]\n",
            " [-0.21   1.    -0.345 -0.21  -0.135]\n",
            " [-0.225 -0.15   1.    -0.375 -0.15 ]\n",
            " [-0.21  -0.135 -0.21   1.    -0.345]\n",
            " [ 0.     0.     0.     0.     0.1  ]]\n"
          ]
        }
      ]
    },
    {
      "cell_type": "code",
      "metadata": {
        "colab": {
          "base_uri": "https://localhost:8080/"
        },
        "id": "PNXntY3vtaqF",
        "outputId": "b9e2bb3f-cd2a-436f-e9c0-9b6fe242748a"
      },
      "source": [
        "trans_mat_act_1 = np.array([[0, 1/3, 1/3, 0, 1/3],\n",
        "                           [1/3, 0, 1/3, 1/3, 0],\n",
        "                           [0, 1/3, 0, 1/3, 1/3],\n",
        "                           [1/3, 0, 1/3, 0, 1/3]], dtype = np.float64)\n",
        "rew_exp_act_1 = np.array([[0], [1/6], [0], [1/6]], dtype = np.float64)\n",
        "q_ft_1 = rew_exp_act_1 + 0.9 * trans_mat_act_1 @ value_ft\n",
        "print(q_ft_1)"
      ],
      "execution_count": null,
      "outputs": [
        {
          "output_type": "stream",
          "name": "stdout",
          "text": [
            "[[0.20515018]\n",
            " [0.42740254]\n",
            " [0.1892026 ]\n",
            " [0.34167995]]\n"
          ]
        }
      ]
    },
    {
      "cell_type": "code",
      "metadata": {
        "colab": {
          "base_uri": "https://localhost:8080/"
        },
        "id": "WczO6iqawG8X",
        "outputId": "f8592e91-99f8-4061-bd3a-af15b7c73cff"
      },
      "source": [
        "trans_mat_act_2 = np.array([[0, 1/2, 0, 1/2, 0],\n",
        "                           [0, 0, 1/2, 0, 1/2],\n",
        "                           [1/2, 0, 0, 1/2, 0],\n",
        "                           [0, 1/2, 0, 0, 1/2]], dtype = np.float64)\n",
        "rew_exp_act_2 = np.array([[0], [0], [1/4], [0]], dtype = np.float64)\n",
        "q_ft_2 = rew_exp_act_2 + 0.9 * trans_mat_act_2 @ value_ft\n",
        "print(q_ft_2)"
      ],
      "execution_count": null,
      "outputs": [
        {
          "output_type": "stream",
          "name": "stdout",
          "text": [
            "[[0.2838039 ]\n",
            " [0.15250526]\n",
            " [0.48859855]\n",
            " [0.15522001]]\n"
          ]
        }
      ]
    },
    {
      "cell_type": "code",
      "metadata": {
        "id": "P9E0p81nxFox",
        "colab": {
          "base_uri": "https://localhost:8080/"
        },
        "outputId": "a13ec484-eb4a-45db-aa90-355cde85d4e8"
      },
      "source": [
        "# Problem 2(c)\n",
        "import numpy as np\n",
        "trans_mat_0 = np.array([[0, 1/3, 1/3, 0, 1/3],\n",
        "                        [1/3, 0, 1/3, 1/3, 0],\n",
        "                        [0, 1/3, 0, 1/3, 1/3],\n",
        "                        [1/3, 0, 1/3, 0, 1/3],\n",
        "                        [0, 0, 0, 0, 1]], dtype = np.float64)\n",
        "rew_exp_0 = np.array([[0], [1/6], [0], [1/6], [0]], dtype = np.float64)\n",
        "value_0 = np.linalg.inv(np.eye(5)-0.9 * trans_mat_0) @ rew_exp_0\n",
        "print(value_0)"
      ],
      "execution_count": null,
      "outputs": [
        {
          "output_type": "stream",
          "name": "stdout",
          "text": [
            "[[0.16207851]\n",
            " [0.35293479]\n",
            " [0.18732693]\n",
            " [0.2714883 ]\n",
            " [0.        ]]\n"
          ]
        }
      ]
    },
    {
      "cell_type": "code",
      "metadata": {
        "colab": {
          "base_uri": "https://localhost:8080/"
        },
        "id": "aeAHWUkdZgyw",
        "outputId": "ee676c3b-bb5b-443f-a160-7de8a720a47f"
      },
      "source": [
        "trans_mat_act_0 = np.array([[0, 1/2, 0, 1/2, 0],\n",
        "                           [0, 0, 1/2, 0, 1/2],\n",
        "                           [1/2, 0, 0, 1/2, 0],\n",
        "                           [0, 1/2, 0, 0, 1/2]], dtype = np.float64)\n",
        "rew_exp_act_0 = np.array([[0], [0], [1/4], [0]], dtype = np.float64)\n",
        "action_value_0 = rew_exp_act_0 + 0.9 * trans_mat_act_0 @ value_0\n",
        "print(action_value_0)"
      ],
      "execution_count": null,
      "outputs": [
        {
          "output_type": "stream",
          "name": "stdout",
          "text": [
            "[[0.28099039]\n",
            " [0.08429712]\n",
            " [0.44510507]\n",
            " [0.15882065]]\n"
          ]
        }
      ]
    },
    {
      "cell_type": "code",
      "metadata": {
        "colab": {
          "base_uri": "https://localhost:8080/"
        },
        "id": "5RDx1Z04bLgo",
        "outputId": "d66e2ea0-105e-423f-9921-36885d3e176a"
      },
      "source": [
        "trans_mat_1 = np.array([[0, 1/2, 0, 1/2, 0],\n",
        "                        [1/3, 0, 1/3, 1/3, 0],\n",
        "                        [1/2, 0, 0, 1/2, 0],\n",
        "                        [1/3, 0, 1/3, 0, 1/3],\n",
        "                        [0, 0, 0, 0, 1]], dtype = np.float64)\n",
        "rew_exp_1 = np.array([[0], [1/6], [1/4], [1/6], [0]], dtype = np.float64)\n",
        "value_1 = np.linalg.inv(np.eye(5)-0.9 * trans_mat_1) @ rew_exp_1\n",
        "print(value_1)"
      ],
      "execution_count": null,
      "outputs": [
        {
          "output_type": "stream",
          "name": "stdout",
          "text": [
            "[[0.60303779]\n",
            " [0.75743877]\n",
            " [0.78355735]\n",
            " [0.58264521]\n",
            " [0.        ]]\n"
          ]
        }
      ]
    },
    {
      "cell_type": "code",
      "metadata": {
        "colab": {
          "base_uri": "https://localhost:8080/"
        },
        "id": "37xD-bAZcYOw",
        "outputId": "e19aee6b-a083-4545-8a96-24eb1a4479c9"
      },
      "source": [
        "trans_mat_act_1 = np.array([[0, 1/3, 1/3, 0, 1/3],\n",
        "                           [0, 0, 1/2, 0, 1/2],\n",
        "                           [0, 1/3, 0, 1/3, 1/3],\n",
        "                           [0, 1/2, 0, 0, 1/2]], dtype = np.float64)\n",
        "rew_exp_act_1 = np.array([[0], [0], [0], [0]], dtype = np.float64)\n",
        "action_value_1 = rew_exp_act_1 + 0.9 * trans_mat_act_1 @ value_1\n",
        "print(action_value_1)"
      ],
      "execution_count": null,
      "outputs": [
        {
          "output_type": "stream",
          "name": "stdout",
          "text": [
            "[[0.46229884]\n",
            " [0.35260081]\n",
            " [0.40202519]\n",
            " [0.34084745]]\n"
          ]
        }
      ]
    },
    {
      "cell_type": "code",
      "metadata": {
        "id": "PI3EuK9yeHtg"
      },
      "source": [
        ""
      ],
      "execution_count": null,
      "outputs": []
    }
  ]
}